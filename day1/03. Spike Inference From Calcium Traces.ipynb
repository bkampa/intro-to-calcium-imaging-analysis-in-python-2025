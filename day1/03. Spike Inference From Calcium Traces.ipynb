{
 "cells": [
  {
   "cell_type": "code",
   "execution_count": null,
   "id": "cd9031ed",
   "metadata": {},
   "outputs": [],
   "source": [
    "# %pip install numpy scipy matplotlib oasis-deconv"
   ]
  },
  {
   "cell_type": "code",
   "execution_count": null,
   "id": "96fa4b6e",
   "metadata": {},
   "outputs": [],
   "source": [
    "import numpy as np\n",
    "from scipy.signal import convolve, windows\n",
    "import matplotlib.pyplot as plt\n",
    "from oasis.functions import deconvolve, gen_data\n",
    "from scipy.signal import find_peaks"
   ]
  },
  {
   "cell_type": "code",
   "execution_count": null,
   "id": "7b03c242",
   "metadata": {},
   "outputs": [],
   "source": [
    "y1, c1, s1 = map(np.squeeze, gen_data(N=1, seed=5, sn=0.1, framerate=10))\n",
    "y2, c2, s2 = map(np.squeeze, gen_data(N=1, seed=5, sn=0.1, framerate=20))\n",
    "y3, c3, s3 = map(np.squeeze, gen_data(N=1, seed=5, sn=0.1, framerate=30))"
   ]
  },
  {
   "cell_type": "markdown",
   "id": "d8576ad2",
   "metadata": {},
   "source": [
    "# Spike Inference From Calcium Traces"
   ]
  },
  {
   "cell_type": "markdown",
   "id": "ffcb4720",
   "metadata": {},
   "source": [
    "###### MEETING NOTES\n",
    "\n",
    "Lecture: \n",
    "1. https://en.lntwww.de/lnt_applets/convolution_en/index.html\n",
    "\n",
    "\n",
    "1. Section 1: Few exercises to understand convolution itself\n",
    "2. Section 2: Exercise where they deconvolve the signal they convolved in Section 1 "
   ]
  },
  {
   "cell_type": "markdown",
   "id": "c30342ee",
   "metadata": {},
   "source": [
    "## How would a spike train appear as a calcium trace? (Convolution)\n",
    "\n",
    "In this section, we will see how calcium signals are produced from spikes using a process called convolution. When a neuron fires, it does not just cause a sharp, brief change in the signal. Instead, it produces a smooth, slowly fading signal that we observe in calcium imaging. We simulate this by convolving a spike train with a calcium kernel which a shape that describes how the signal should look after a single spike. This helps us understand how fast spiking activity is transformed into the slower calcium traces we record."
   ]
  },
  {
   "cell_type": "markdown",
   "id": "6f415cd5",
   "metadata": {},
   "source": [
    "*How will my spikes look if they are convolved with a prebuilt kernel?*\n",
    "\n",
    "**Example** How will my spikes look if they were convolved with a boxcar kernel of window size 3?"
   ]
  },
  {
   "cell_type": "code",
   "execution_count": null,
   "id": "ff2d11ae",
   "metadata": {},
   "outputs": [],
   "source": [
    "win_len = 3\n",
    "kernel_unnorm = windows.boxcar(win_len)\n",
    "kernel = kernel_unnorm / kernel_unnorm.sum()\n",
    "convolved_trace = convolve(s1, kernel, mode='full')\n",
    "\n",
    "plt.subplot(211)\n",
    "plt.plot(kernel)\n",
    "\n",
    "plt.subplot(212)\n",
    "plt.plot(s1)\n",
    "plt.plot(convolved_trace[:-win_len+1], color='r')\n",
    "plt.xlim(0, 100)"
   ]
  },
  {
   "cell_type": "markdown",
   "id": "673d1c0f",
   "metadata": {},
   "source": [
    "How will my spikes look if they were convolved with a triangle kernel of window size 3?"
   ]
  },
  {
   "cell_type": "code",
   "execution_count": null,
   "id": "9dff2c44",
   "metadata": {},
   "outputs": [],
   "source": []
  },
  {
   "cell_type": "markdown",
   "id": "a141628b",
   "metadata": {},
   "source": [
    "How will my spikes look if they were convolved with a triangle kernel of window size 4?"
   ]
  },
  {
   "cell_type": "code",
   "execution_count": null,
   "id": "e7ecee11",
   "metadata": {},
   "outputs": [],
   "source": []
  },
  {
   "cell_type": "markdown",
   "id": "b5c35c66",
   "metadata": {},
   "source": [
    "*How will my spikes look if they are convolved with an exponential decay kernel?*\n",
    "\n",
    "**Example** How will my spikes look when convolved with an exponential decay kernel with tau of 10 frames and window size of 101 frames?"
   ]
  },
  {
   "cell_type": "code",
   "execution_count": null,
   "id": "ab7967bb",
   "metadata": {},
   "outputs": [],
   "source": [
    "tau = 10\n",
    "win_len = 101\n",
    "t = np.arange(win_len)\n",
    "kernel_unnorm = np.exp(-t / tau)\n",
    "kernel = kernel_unnorm / kernel_unnorm.sum()\n",
    "convolved_trace = convolve(s1, kernel, mode='full')\n",
    "\n",
    "plt.subplot(211)\n",
    "plt.plot(kernel)\n",
    "\n",
    "plt.subplot(212)\n",
    "plt.plot(s1)\n",
    "plt.plot(convolved_trace[:-win_len+1], color='r')\n",
    "plt.xlim(0, 100)"
   ]
  },
  {
   "cell_type": "markdown",
   "id": "00f5bcc0",
   "metadata": {},
   "source": [
    "How will my spikes look when convolved with an exponential decay kernel with tau of 1 frames and window size of 101 frames?"
   ]
  },
  {
   "cell_type": "code",
   "execution_count": null,
   "id": "76965d0b",
   "metadata": {},
   "outputs": [],
   "source": []
  },
  {
   "cell_type": "markdown",
   "id": "2b47ce58",
   "metadata": {},
   "source": [
    "How will my spikes look when convolved with an exponential decay kernel with tau of 200 frames and window size of 101 frames?"
   ]
  },
  {
   "cell_type": "code",
   "execution_count": null,
   "id": "9133355b",
   "metadata": {},
   "outputs": [],
   "source": []
  },
  {
   "cell_type": "markdown",
   "id": "d66f1e9a",
   "metadata": {},
   "source": [
    "*How will my spikes look if they are convolved with a double exponential decay kernel?*\n",
    "\n",
    "**Example** How will my spikes look when convolved with a double exponential decay kernel with tau rise of 0.1 frame, tau_decay of 1.5 frames, and window size of 101 frames?"
   ]
  },
  {
   "cell_type": "code",
   "execution_count": null,
   "id": "c66a0fb9",
   "metadata": {},
   "outputs": [],
   "source": [
    "tau_rise = 0.1\n",
    "tau_decay = 1.5\n",
    "win_len = 101\n",
    "t = np.arange(win_len)\n",
    "kernel_unnorm = np.exp(-t / tau_decay) - np.exp(-t / tau_rise)\n",
    "kernel = kernel_unnorm / kernel_unnorm.sum()\n",
    "convolved_trace = convolve(s1, kernel, mode='full')\n",
    "\n",
    "plt.subplot(211)\n",
    "plt.plot(kernel)\n",
    "\n",
    "plt.subplot(212)\n",
    "plt.plot(s1)\n",
    "plt.plot(convolved_trace[:-win_len+1], color='r')\n",
    "plt.xlim(0, 100)"
   ]
  },
  {
   "cell_type": "markdown",
   "id": "7cfedc58",
   "metadata": {},
   "source": [
    "How will my spikes look when convolved with a double exponential decay kernel with tau rise of 29.9 frame, tau_decay of 30.0 frames, and window size of 101 frames?"
   ]
  },
  {
   "cell_type": "code",
   "execution_count": null,
   "id": "56ddbf5c",
   "metadata": {},
   "outputs": [],
   "source": []
  },
  {
   "cell_type": "markdown",
   "id": "c9a8f727",
   "metadata": {},
   "source": [
    "How will my spikes look when convolved with a double exponential decay kernel with tau rise of 0.1 frame, tau_decay of 4.0 frames, and window size of 101 frames?"
   ]
  },
  {
   "cell_type": "code",
   "execution_count": null,
   "id": "9f79478d",
   "metadata": {},
   "outputs": [],
   "source": []
  },
  {
   "cell_type": "markdown",
   "id": "52761600",
   "metadata": {},
   "source": [
    "## OASIS\n",
    "\n",
    "Now that we know how spikes generate calcium signals using a kernel, we want to do the reverse: go from calcium traces back to the original spikes. This is done through deconvolution. OASIS is a commonly used algorithm that estimates spike timings by finding a sparse set of events that, when convolved with a known calcium kernel, best matches the observed signal. The output is a continuous signal where higher values suggest stronger or more likely spike events."
   ]
  },
  {
   "cell_type": "markdown",
   "id": "646069fa",
   "metadata": {},
   "source": [
    "*I have calcium trace from a neuron. How can I infer spikes from it?*\n",
    "\n",
    "**Example** Estimate spikes from calcium trace `y1`."
   ]
  },
  {
   "cell_type": "code",
   "execution_count": null,
   "id": "3c4ac4ee",
   "metadata": {},
   "outputs": [],
   "source": [
    "inferred_trace, estimated_spikes, estimated_baseline, g, _ = deconvolve(y1)\n",
    "\n",
    "plt.subplot(211)\n",
    "plt.plot(y1)\n",
    "\n",
    "plt.subplot(212)\n",
    "plt.plot(estimated_spikes)"
   ]
  },
  {
   "cell_type": "markdown",
   "id": "1cea6c46",
   "metadata": {},
   "source": [
    "Estimate spikes from calcium trace `y2` and also plot the estimated baseline."
   ]
  },
  {
   "cell_type": "code",
   "execution_count": null,
   "id": "f3fb7f29",
   "metadata": {},
   "outputs": [],
   "source": []
  },
  {
   "cell_type": "markdown",
   "id": "2c57a8f0",
   "metadata": {},
   "source": [
    "Estimate spikes from calcium trace `y3` and also add estimated baseline."
   ]
  },
  {
   "cell_type": "code",
   "execution_count": null,
   "id": "42628679",
   "metadata": {},
   "outputs": [],
   "source": []
  },
  {
   "cell_type": "markdown",
   "id": "821c4fc7",
   "metadata": {},
   "source": [
    "*How can I control for fast and slow decay of calcium transients?*\n",
    "\n",
    "**Example** Give g1 co-efficient as 0.9."
   ]
  },
  {
   "cell_type": "code",
   "execution_count": null,
   "id": "029b65e9",
   "metadata": {},
   "outputs": [],
   "source": [
    "inferred_trace, estimated_spikes, estimated_baseline, g, _ = deconvolve(y3, g=(0.9,))\n",
    "\n",
    "plt.subplot(211)\n",
    "plt.plot(y3)\n",
    "\n",
    "plt.subplot(212)\n",
    "plt.plot(estimated_spikes)"
   ]
  },
  {
   "cell_type": "markdown",
   "id": "3dd78ea5",
   "metadata": {},
   "source": [
    "Give g1 co-efficient as 0.1."
   ]
  },
  {
   "cell_type": "code",
   "execution_count": null,
   "id": "26d1c8e2",
   "metadata": {},
   "outputs": [],
   "source": []
  },
  {
   "cell_type": "markdown",
   "id": "f3a55785",
   "metadata": {},
   "source": [
    "Give g1 co-efficient as 0.99."
   ]
  },
  {
   "cell_type": "code",
   "execution_count": null,
   "id": "6979f61c",
   "metadata": {},
   "outputs": [],
   "source": []
  },
  {
   "cell_type": "markdown",
   "id": "bfdb6b0e",
   "metadata": {},
   "source": [
    "Give g1 co-efficient as 0.9 and g2 as -0.81."
   ]
  },
  {
   "cell_type": "code",
   "execution_count": null,
   "id": "9dca4924",
   "metadata": {},
   "outputs": [],
   "source": []
  },
  {
   "cell_type": "markdown",
   "id": "0e9dba00",
   "metadata": {},
   "source": [
    "*How can I compare the trace inferred from the spikes with my real calcium signal?*\n",
    "\n",
    "**Example** Compare the inferred calcium traces with real calcium trace of y1."
   ]
  },
  {
   "cell_type": "code",
   "execution_count": null,
   "id": "316b259d",
   "metadata": {},
   "outputs": [],
   "source": [
    "inferred_trace, estimated_spikes, estimated_baseline, g, _ = deconvolve(y1)\n",
    "\n",
    "plt.subplot(211)\n",
    "plt.plot(y1)\n",
    "\n",
    "plt.subplot(212)\n",
    "plt.plot(inferred_trace)"
   ]
  },
  {
   "cell_type": "markdown",
   "id": "ec5f9358",
   "metadata": {},
   "source": [
    "Compare the inferred calcium traces with real calcium trace of y2 with g1 as 0.9."
   ]
  },
  {
   "cell_type": "code",
   "execution_count": null,
   "id": "32282090",
   "metadata": {},
   "outputs": [],
   "source": []
  },
  {
   "cell_type": "markdown",
   "id": "f3ff8bf4",
   "metadata": {},
   "source": [
    "Compare the inferred calcium traces with real calcium trace of y1 with g1 as 1.8 and g2 as -0.81."
   ]
  },
  {
   "cell_type": "code",
   "execution_count": null,
   "id": "8ddcf206",
   "metadata": {},
   "outputs": [],
   "source": []
  },
  {
   "cell_type": "markdown",
   "id": "58417f44",
   "metadata": {},
   "source": [
    "## Thresholding and Spike times\n",
    "\n",
    "The output from OASIS is continuous, showing how likely or strong each spike might be. But for many kinds of analysis, we need clear events where either a spike happened, or it did not. To do this, we apply a threshold to the OASIS output. Any value above the threshold is considered a spike."
   ]
  },
  {
   "cell_type": "code",
   "execution_count": null,
   "id": "49db2954",
   "metadata": {},
   "outputs": [],
   "source": [
    "_, inferred_spikes1, _, _, _ = deconvolve(y1)\n",
    "_, inferred_spikes2, _, _, _ = deconvolve(y2)\n",
    "_, inferred_spikes3, _, _, _ = deconvolve(y3)"
   ]
  },
  {
   "cell_type": "markdown",
   "id": "5d592183",
   "metadata": {},
   "source": [
    "*How do I get spike times by fixing an amplitude manually?*\n",
    "\n",
    "**Example** For y1, find spike times of all spikes with amplitude larger than 1.0."
   ]
  },
  {
   "cell_type": "code",
   "execution_count": null,
   "id": "f5218ba2",
   "metadata": {},
   "outputs": [],
   "source": [
    "threshold = 1.0\n",
    "fr = 10\n",
    "spk_inds = np.where(inferred_spikes1 > threshold)[0]\n",
    "spk_times = spk_inds / fr\n",
    "plt.eventplot(spk_times)"
   ]
  },
  {
   "cell_type": "markdown",
   "id": "bd987e61",
   "metadata": {},
   "source": [
    "For y1, find spike times of all spikes with amplitude larger than 0.01."
   ]
  },
  {
   "cell_type": "code",
   "execution_count": null,
   "id": "4b8f6f79",
   "metadata": {},
   "outputs": [],
   "source": []
  },
  {
   "cell_type": "markdown",
   "id": "d2788c70",
   "metadata": {},
   "source": [
    "For y1, find spike times of all spikes with amplitude larger than 0.5."
   ]
  },
  {
   "cell_type": "code",
   "execution_count": null,
   "id": "6ce4737d",
   "metadata": {},
   "outputs": [],
   "source": []
  },
  {
   "cell_type": "markdown",
   "id": "ac7ceda3",
   "metadata": {},
   "source": [
    "*How can I fix the amplitude threshold automatically?*\n",
    "\n",
    "**Example** For y1, set threshold to be higher than 10% of maximum amplitude."
   ]
  },
  {
   "cell_type": "code",
   "execution_count": null,
   "id": "4ca6f2c0",
   "metadata": {},
   "outputs": [],
   "source": [
    "threshold = 0.1 * np.max(inferred_spikes1)\n",
    "fr = 10\n",
    "spk_inds = np.where(inferred_spikes1 > threshold)[0]\n",
    "spk_times = spk_inds / fr\n",
    "plt.eventplot(spk_times)"
   ]
  },
  {
   "cell_type": "markdown",
   "id": "d7a4a213",
   "metadata": {},
   "source": [
    "For y1, set threshold to be higher than 95th-percentile of the amplitudes."
   ]
  },
  {
   "cell_type": "code",
   "execution_count": null,
   "id": "5da71228",
   "metadata": {},
   "outputs": [],
   "source": []
  },
  {
   "cell_type": "markdown",
   "id": "9f2f432e",
   "metadata": {},
   "source": [
    "For y1, set threshold to be higher than three-sigma."
   ]
  },
  {
   "cell_type": "code",
   "execution_count": null,
   "id": "dd3384d0",
   "metadata": {},
   "outputs": [],
   "source": []
  },
  {
   "cell_type": "markdown",
   "id": "706a5b89",
   "metadata": {},
   "source": [
    "*How can I prevent multiple spike detections from a single calcium event?*\n",
    "\n",
    "**Example** For y1, only get spike times for spikes with amplitudes larger than 0.5 with minimum distance of at least 5 frames."
   ]
  },
  {
   "cell_type": "code",
   "execution_count": null,
   "id": "68fdc200",
   "metadata": {},
   "outputs": [],
   "source": [
    "spk_inds, properties = find_peaks(inferred_spikes1, height=0.5, distance=5)\n",
    "fr = 10\n",
    "spk_times = spk_inds / fr\n",
    "plt.eventplot(spk_times)"
   ]
  },
  {
   "cell_type": "markdown",
   "id": "910b9528",
   "metadata": {},
   "source": [
    "For y1, only get spike times for spikes with amplitudes larger than 0.5 with minimum distance of at least 100 frames."
   ]
  },
  {
   "cell_type": "code",
   "execution_count": null,
   "id": "55ff4bac",
   "metadata": {},
   "outputs": [],
   "source": []
  },
  {
   "cell_type": "markdown",
   "id": "83d7a6d8",
   "metadata": {},
   "source": [
    "For y1, only get spike times for spikes with amplitudes larger than 0.5 with minimum distance of at least 10 frames."
   ]
  },
  {
   "cell_type": "code",
   "execution_count": null,
   "id": "07e15543",
   "metadata": {},
   "outputs": [],
   "source": []
  },
  {
   "cell_type": "markdown",
   "id": "a1fa942c",
   "metadata": {},
   "source": [
    "## Saving Timestamped Data\n",
    "\n",
    "Once we have identified when spikes likely occurred by thresholding, we save the corresponding time points. These timestamped events are useful for further analysis, such as comparing activity across cells, aligning activity to behavioral events, or building summary statistics. In this section, we will save these spike times as an array of indices or timestamps."
   ]
  },
  {
   "cell_type": "code",
   "execution_count": null,
   "id": "d70980ae",
   "metadata": {},
   "outputs": [],
   "source": [
    "threshold = np.percentile(inferred_spikes1, 95)\n",
    "fr = 10\n",
    "spk_inds = np.where(inferred_spikes1 > threshold)[0]\n",
    "spk_times1 = spk_inds / fr"
   ]
  },
  {
   "cell_type": "code",
   "execution_count": null,
   "id": "b0cbb4f9",
   "metadata": {},
   "outputs": [],
   "source": [
    "threshold = np.percentile(inferred_spikes2, 95)\n",
    "fr = 20\n",
    "spk_inds = np.where(inferred_spikes2 > threshold)[0]\n",
    "spk_times2 = spk_inds / fr"
   ]
  },
  {
   "cell_type": "code",
   "execution_count": null,
   "id": "b5f1093e",
   "metadata": {},
   "outputs": [],
   "source": [
    "threshold = np.percentile(inferred_spikes3, 95)\n",
    "fr = 30\n",
    "spk_inds = np.where(inferred_spikes3 > threshold)[0]\n",
    "spk_times3 = spk_inds / fr"
   ]
  },
  {
   "cell_type": "markdown",
   "id": "72f77740",
   "metadata": {},
   "source": [
    "*How do I save spike times of a single neuron?*\n",
    "\n",
    "**Example** Save `spk_times1` as `spk1.npy`."
   ]
  },
  {
   "cell_type": "code",
   "execution_count": null,
   "id": "e2206e90",
   "metadata": {},
   "outputs": [],
   "source": [
    "np.save('spk1.npy', spk_times1)"
   ]
  },
  {
   "cell_type": "markdown",
   "id": "0100b3f2",
   "metadata": {},
   "source": [
    "Save `spk_times2` as `spk2.npy`."
   ]
  },
  {
   "cell_type": "code",
   "execution_count": null,
   "id": "e4be129d",
   "metadata": {},
   "outputs": [],
   "source": []
  },
  {
   "cell_type": "markdown",
   "id": "35796698",
   "metadata": {},
   "source": [
    "Save `spk_times3` as `spk3.npy`."
   ]
  },
  {
   "cell_type": "code",
   "execution_count": null,
   "id": "76a13de3",
   "metadata": {},
   "outputs": [],
   "source": []
  },
  {
   "cell_type": "markdown",
   "id": "0e6347e7",
   "metadata": {},
   "source": [
    "*How do I load spike times of a single neuron?*\n",
    "\n",
    "*Example* Load `spk1.npy`."
   ]
  },
  {
   "cell_type": "code",
   "execution_count": null,
   "id": "f622ec24",
   "metadata": {},
   "outputs": [],
   "source": [
    "spk1 = np.load('spk1.npy')\n",
    "plt.eventplot(spk1)"
   ]
  },
  {
   "cell_type": "markdown",
   "id": "0bad3faa",
   "metadata": {},
   "source": [
    "Load `spk2.npy`."
   ]
  },
  {
   "cell_type": "code",
   "execution_count": null,
   "id": "9a1bd1d1",
   "metadata": {},
   "outputs": [],
   "source": []
  },
  {
   "cell_type": "markdown",
   "id": "29a92ace",
   "metadata": {},
   "source": [
    "Load `spk3.npy`."
   ]
  },
  {
   "cell_type": "code",
   "execution_count": null,
   "id": "208c7dd0",
   "metadata": {},
   "outputs": [],
   "source": []
  },
  {
   "cell_type": "markdown",
   "id": "2685f3c4",
   "metadata": {},
   "source": [
    "*How do I save spike times of multiple neurons?*\n",
    "\n",
    "**Example** Save `spk_times1` and `spk_times1` together as `spk_1_2.npy`."
   ]
  },
  {
   "cell_type": "code",
   "execution_count": null,
   "id": "de0cd27f",
   "metadata": {},
   "outputs": [],
   "source": [
    "spks = np.array([spk_times1, spk_times2], dtype=object)\n",
    "np.save('spk_1_2.npy', spks)"
   ]
  },
  {
   "cell_type": "markdown",
   "id": "dc8cb407",
   "metadata": {},
   "source": [
    "Save `spk_times2` and `spk_times3` together as `spk_2_3.npy`."
   ]
  },
  {
   "cell_type": "code",
   "execution_count": null,
   "id": "521eafd6",
   "metadata": {},
   "outputs": [],
   "source": []
  },
  {
   "cell_type": "markdown",
   "id": "e885c7a8",
   "metadata": {},
   "source": [
    "Save `spk_times1`, `spk_times2`, and `spk_times3` together as `spk_1_2_3.npy`."
   ]
  },
  {
   "cell_type": "code",
   "execution_count": null,
   "id": "d9c33b95",
   "metadata": {},
   "outputs": [],
   "source": []
  },
  {
   "cell_type": "markdown",
   "id": "e35f6277",
   "metadata": {},
   "source": [
    "*How do I load spike times of multiple neurons?*\n",
    "\n",
    "**Example** Load `spk_1_2.npy` and plot the events from first neuron."
   ]
  },
  {
   "cell_type": "code",
   "execution_count": null,
   "id": "07cf7846",
   "metadata": {},
   "outputs": [],
   "source": [
    "spks = np.load('spk_1_2.npy', allow_pickle=True)\n",
    "plt.eventplot(spks[0])"
   ]
  },
  {
   "cell_type": "markdown",
   "id": "ea75eece",
   "metadata": {},
   "source": [
    "Load `spk_1_2.npy` and plot the events from second neuron."
   ]
  },
  {
   "cell_type": "code",
   "execution_count": null,
   "id": "f88a26c1",
   "metadata": {},
   "outputs": [],
   "source": []
  },
  {
   "cell_type": "markdown",
   "id": "5a7f77d1",
   "metadata": {},
   "source": [
    "Load `spk.npy` and plot the events from the last neuron."
   ]
  },
  {
   "cell_type": "code",
   "execution_count": null,
   "id": "8f4e3926",
   "metadata": {},
   "outputs": [],
   "source": []
  }
 ],
 "metadata": {
  "kernelspec": {
   "display_name": "calim",
   "language": "python",
   "name": "python3"
  },
  "language_info": {
   "codemirror_mode": {
    "name": "ipython",
    "version": 3
   },
   "file_extension": ".py",
   "mimetype": "text/x-python",
   "name": "python",
   "nbconvert_exporter": "python",
   "pygments_lexer": "ipython3",
   "version": "3.12.3"
  }
 },
 "nbformat": 4,
 "nbformat_minor": 5
}
