{
 "cells": [
  {
   "cell_type": "code",
   "execution_count": 1,
   "id": "87fd215b",
   "metadata": {},
   "outputs": [],
   "source": [
    "# %pip install numpy tifffile matplotlib scipy scikit-image pyocclient"
   ]
  },
  {
   "cell_type": "code",
   "execution_count": 2,
   "id": "006bb1fa",
   "metadata": {},
   "outputs": [],
   "source": [
    "import numpy as np\n",
    "from tifffile import imread\n",
    "import matplotlib.pyplot as plt\n",
    "from scipy.ndimage import median_filter, gaussian_filter1d"
   ]
  },
  {
   "cell_type": "code",
   "execution_count": 3,
   "id": "e0536f2d",
   "metadata": {},
   "outputs": [],
   "source": [
    "import owncloud\n",
    "import os\n",
    "\n",
    "if not os.path.exists('data'):\n",
    "    print('Creating directory for data')\n",
    "    os.mkdir('data')\n",
    "\n",
    "if not os.path.exists('data/demoMovie.tif'):\n",
    "    oc = owncloud.Client.from_public_link('https://uni-bonn.sciebo.de/s/NwtdrIg5wGdeGcB')\n",
    "    oc.get_file('/', 'data/demoMovie.tif');"
   ]
  },
  {
   "cell_type": "markdown",
   "id": "b5a04a45",
   "metadata": {},
   "source": [
    "# Calcium Traces"
   ]
  },
  {
   "cell_type": "markdown",
   "id": "fd4d444d",
   "metadata": {},
   "source": [
    "## Flurorescence Signals from a Single Pixel.\n",
    "\n",
    "In this section, let us look at the brightness (fluorescence) of a single pixel over time. This brightness changes when calcium levels in the cell change which is an indicator that the neuron is \"active\". Plotting how the fluorescence changes shows us when \"activity\" might have happened in that pixel. "
   ]
  },
  {
   "cell_type": "markdown",
   "id": "cbc5c11b",
   "metadata": {},
   "source": [
    "How do I look for individual frames in my data to search for neurons?\n",
    "\n",
    "**Example** Plot the first frame as representative image"
   ]
  },
  {
   "cell_type": "code",
   "execution_count": null,
   "id": "a8a6e55a",
   "metadata": {},
   "outputs": [],
   "source": [
    "data = imread('data/demoMovie.tif')\n",
    "rep_image = data[0, :, :]\n",
    "plt.imshow(rep_image, cmap='gray')"
   ]
  },
  {
   "cell_type": "code",
   "execution_count": null,
   "id": "8e67ca33",
   "metadata": {},
   "outputs": [],
   "source": [
    "data = imread('data/demoMovie.tif')\n",
    "rep_image = data[115, :, :]\n",
    "plt.imshow(rep_image, cmap='gray')"
   ]
  },
  {
   "cell_type": "code",
   "execution_count": null,
   "id": "8612d601",
   "metadata": {},
   "outputs": [],
   "source": [
    "data = imread('data/demoMovie.tif')\n",
    "rep_image = data[-1, :, :]\n",
    "plt.imshow(rep_image, cmap='gray')"
   ]
  },
  {
   "cell_type": "markdown",
   "id": "e45cd179",
   "metadata": {},
   "source": [
    "How do I see as many active neurons as possible in one image?\n",
    "\n",
    "**Example** Plot mean projection of all the frames as representative image"
   ]
  },
  {
   "cell_type": "code",
   "execution_count": null,
   "id": "ac98faf0",
   "metadata": {},
   "outputs": [],
   "source": [
    "data = imread('data/demoMovie.tif')\n",
    "rep_image = data[:, :, :].mean(axis=0)\n",
    "plt.imshow(rep_image, cmap='gray')"
   ]
  },
  {
   "cell_type": "code",
   "execution_count": null,
   "id": "721d2647",
   "metadata": {},
   "outputs": [],
   "source": [
    "data = imread('data/demoMovie.tif')\n",
    "rep_image = data[:11, :, :].max(axis=0)\n",
    "plt.imshow(rep_image, cmap='gray')"
   ]
  },
  {
   "cell_type": "code",
   "execution_count": null,
   "id": "c5d06684",
   "metadata": {},
   "outputs": [],
   "source": [
    "data = imread('data/demoMovie.tif')\n",
    "rep_image = data[100:500, :, :].max(axis=0)\n",
    "plt.imshow(rep_image, cmap='gray')"
   ]
  },
  {
   "cell_type": "markdown",
   "id": "671a2280",
   "metadata": {},
   "source": [
    "How do I zoom into the cell I am interested in?\n",
    "\n",
    "**Example** Plot mean projection image cropped to Cell 1."
   ]
  },
  {
   "cell_type": "code",
   "execution_count": null,
   "id": "ac505a3a",
   "metadata": {},
   "outputs": [],
   "source": [
    "data = imread('data/demoMovie.tif')\n",
    "rep_image = data[:, 20:35, 15:35].mean(axis=0)\n",
    "plt.imshow(rep_image, cmap='gray')"
   ]
  },
  {
   "cell_type": "code",
   "execution_count": null,
   "id": "96f0e297",
   "metadata": {},
   "outputs": [],
   "source": [
    "data = imread('data/demoMovie.tif')\n",
    "rep_image = data[:, 23:40, 55:75].mean(axis=0)\n",
    "plt.imshow(rep_image, cmap='gray')"
   ]
  },
  {
   "cell_type": "code",
   "execution_count": null,
   "id": "2d9d7a13",
   "metadata": {},
   "outputs": [],
   "source": [
    "data = imread('data/demoMovie.tif')\n",
    "rep_image = data[0:100, 23:40, 0:10].mean(axis=0)\n",
    "plt.imshow(rep_image, cmap='gray')"
   ]
  },
  {
   "cell_type": "markdown",
   "id": "dc8dee70",
   "metadata": {},
   "source": [
    "Where is the neuron I am interested in?\n",
    "\n",
    "**Example** Locate Cell A in the image."
   ]
  },
  {
   "cell_type": "code",
   "execution_count": null,
   "id": "515ff9f1",
   "metadata": {},
   "outputs": [],
   "source": [
    "rep_image = data[:, :, :].mean(axis=0)\n",
    "plt.imshow(rep_image, cmap='gray')\n",
    "plt.scatter(60, 30, color='r')"
   ]
  },
  {
   "cell_type": "code",
   "execution_count": null,
   "id": "6cff37f9",
   "metadata": {},
   "outputs": [],
   "source": [
    "rep_image = data[:, :, :].mean(axis=0)\n",
    "plt.imshow(rep_image, cmap='gray')\n",
    "plt.scatter(39, 40, color='r')"
   ]
  },
  {
   "cell_type": "code",
   "execution_count": null,
   "id": "f80588a9",
   "metadata": {},
   "outputs": [],
   "source": [
    "rep_image = data[:, :, :].mean(axis=0)\n",
    "plt.imshow(rep_image, cmap='gray')\n",
    "plt.scatter(21, 25, color='r')"
   ]
  },
  {
   "cell_type": "markdown",
   "id": "577432b0",
   "metadata": {},
   "source": [
    "What does the activity of my neuron look like?\n",
    "\n",
    "**Example** Plot calcium trace extracted from Cell A"
   ]
  },
  {
   "cell_type": "code",
   "execution_count": null,
   "id": "c3d47ab5",
   "metadata": {},
   "outputs": [],
   "source": [
    "rep_image = data[:, :, :].mean(axis=0)\n",
    "trace = data[:, 25, 21]\n",
    "\n",
    "plt.subplot(211)\n",
    "plt.imshow(rep_image, cmap='gray')\n",
    "plt.scatter(21, 25, color='r')\n",
    "\n",
    "plt.subplot(212)\n",
    "plt.plot(trace)"
   ]
  },
  {
   "cell_type": "code",
   "execution_count": null,
   "id": "02c3f8c1",
   "metadata": {},
   "outputs": [],
   "source": [
    "rep_image = data[:, :, :].mean(axis=0)\n",
    "trace = data[:, 40, 39]\n",
    "\n",
    "plt.subplot(211)\n",
    "plt.imshow(rep_image, cmap='gray')\n",
    "plt.scatter(39, 40, color='r')\n",
    "\n",
    "plt.subplot(212)\n",
    "plt.plot(trace)"
   ]
  },
  {
   "cell_type": "code",
   "execution_count": null,
   "id": "847f1f46",
   "metadata": {},
   "outputs": [],
   "source": [
    "rep_image = data[:, :, :].mean(axis=0)\n",
    "trace = data[:, 25, 21]\n",
    "\n",
    "plt.subplot(211)\n",
    "plt.imshow(rep_image, cmap='gray')\n",
    "plt.scatter(21, 25, color='r')\n",
    "\n",
    "plt.subplot(212)\n",
    "plt.plot(trace)"
   ]
  },
  {
   "cell_type": "markdown",
   "id": "ef64e287",
   "metadata": {},
   "source": [
    "## Neuropil Correction.\n",
    "\n",
    "The brightness we see in a pixel is, usually, not just from the cell we care about. It also includes light from nearby tissue called neuropil. To get a cleaner signal, we subtract a portion of this surrounding signal. This process is called neuropil correction."
   ]
  },
  {
   "cell_type": "code",
   "execution_count": null,
   "id": "ce9b8939",
   "metadata": {},
   "outputs": [],
   "source": [
    "data = imread('data/demoMovie.tif')\n",
    "rep_image = np.mean(data, axis=0)"
   ]
  },
  {
   "cell_type": "markdown",
   "id": "4c92a2af",
   "metadata": {},
   "source": [
    "How do I get neuropil trace for correction and it's okay if it also contains some signal from neurons?\n",
    "\n",
    "**Example** Global average for neuropil"
   ]
  },
  {
   "cell_type": "code",
   "execution_count": null,
   "id": "aff0334a",
   "metadata": {},
   "outputs": [],
   "source": [
    "cell_trace = data[:, 40, 39]\n",
    "npil_trace = np.mean(data, axis=(1,2))\n",
    "\n",
    "plt.subplot(211)\n",
    "plt.imshow(rep_image, cmap='gray')\n",
    "plt.scatter(39, 40, color='r')\n",
    "plt.scatter(39, 45, color='r', marker='x')\n",
    "\n",
    "plt.subplot(212)\n",
    "plt.plot(cell_trace)\n",
    "plt.plot(npil_trace)"
   ]
  },
  {
   "cell_type": "code",
   "execution_count": null,
   "id": "840c96c2",
   "metadata": {},
   "outputs": [],
   "source": [
    "cell_trace = data[:, 40, 39]\n",
    "npil_trace = np.mean(data[:, 20:40, 30:72], axis=(1,2))\n",
    "\n",
    "plt.subplot(211)\n",
    "plt.imshow(rep_image, cmap='gray')\n",
    "plt.scatter(39, 40, color='r')\n",
    "plt.scatter(39, 45, color='r', marker='x')\n",
    "\n",
    "plt.subplot(212)\n",
    "plt.plot(cell_trace)\n",
    "plt.plot(npil_trace)"
   ]
  },
  {
   "cell_type": "code",
   "execution_count": null,
   "id": "e5eb4b2f",
   "metadata": {},
   "outputs": [],
   "source": [
    "cell_trace = data[:, 40, 39]\n",
    "npil_trace = np.median(data[:, 20:40, 30:72], axis=(1,2))\n",
    "\n",
    "plt.subplot(211)\n",
    "plt.imshow(rep_image, cmap='gray')\n",
    "plt.scatter(39, 40, color='r')\n",
    "plt.scatter(39, 45, color='r', marker='x')\n",
    "\n",
    "plt.subplot(212)\n",
    "plt.plot(cell_trace)\n",
    "plt.plot(npil_trace)"
   ]
  },
  {
   "cell_type": "markdown",
   "id": "69dce474",
   "metadata": {},
   "source": [
    "How do I get neuropil trace from just outside my neuron?\n",
    "\n",
    "**Example** Neuropil trace from pixel just outside the cell"
   ]
  },
  {
   "cell_type": "code",
   "execution_count": null,
   "id": "0132e5c6",
   "metadata": {},
   "outputs": [],
   "source": [
    "plt.subplot(311)\n",
    "plt.imshow(rep_image, cmap='gray')\n",
    "plt.scatter(39, 40, color='r')\n",
    "plt.scatter(39, 45, color='r', marker='x')\n",
    "\n",
    "plt.subplot(312)\n",
    "plt.plot(data[:, 40, 39])\n",
    "\n",
    "plt.subplot(313)\n",
    "plt.plot(data[:, 45, 39])"
   ]
  },
  {
   "cell_type": "code",
   "execution_count": null,
   "id": "ff04560f",
   "metadata": {},
   "outputs": [],
   "source": [
    "plt.subplot(211)\n",
    "plt.imshow(rep_image, cmap='gray')\n",
    "plt.scatter(39, 40, color='r')\n",
    "plt.scatter(39, 45, color='r', marker='x')\n",
    "\n",
    "plt.subplot(212)\n",
    "plt.plot(data[:, 30, 60])\n",
    "plt.plot(data[:, 33, 56])"
   ]
  },
  {
   "cell_type": "code",
   "execution_count": null,
   "id": "9bc750c7",
   "metadata": {},
   "outputs": [],
   "source": [
    "plt.subplot(211)\n",
    "plt.imshow(rep_image, cmap='gray')\n",
    "plt.scatter(21, 25, color='r')\n",
    "plt.scatter(20, 28, color='r', marker='x')\n",
    "\n",
    "plt.subplot(212)\n",
    "plt.plot(data[:, 25, 21])\n",
    "plt.plot(data[:, 28, 20])"
   ]
  },
  {
   "cell_type": "markdown",
   "id": "7843b88a",
   "metadata": {},
   "source": [
    "How should I do neuropil subtraction?\n",
    "\n",
    "**Example** Neuropil subtraction"
   ]
  },
  {
   "cell_type": "code",
   "execution_count": null,
   "id": "d961273f",
   "metadata": {},
   "outputs": [],
   "source": [
    "cell_trace = data[:, 25, 21]\n",
    "neuropil_trace = data[:, 28, 20]\n",
    "r = 1.0\n",
    "F_corr = cell_trace - r*neuropil_trace\n",
    "\n",
    "plt.subplot(311)\n",
    "plt.imshow(rep_image, cmap='gray')\n",
    "plt.scatter(21, 25, color='r')\n",
    "plt.scatter(20, 28, color='r', marker='x')\n",
    "\n",
    "plt.subplot(312)\n",
    "plt.plot(cell_trace)\n",
    "plt.plot(neuropil_trace)\n",
    "\n",
    "plt.subplot(313)\n",
    "plt.plot(F_corr)"
   ]
  },
  {
   "cell_type": "code",
   "execution_count": null,
   "id": "b354d4b3",
   "metadata": {},
   "outputs": [],
   "source": [
    "cell_trace = data[:, 30, 60]\n",
    "neuropil_trace = data[:, 33, 56]\n",
    "r = 0.7\n",
    "F_corr = cell_trace - r*neuropil_trace\n",
    "\n",
    "plt.subplot(311)\n",
    "plt.imshow(rep_image, cmap='gray')\n",
    "plt.scatter(60, 30, color='r')\n",
    "plt.scatter(56, 33, color='r', marker='x')\n",
    "\n",
    "plt.subplot(312)\n",
    "plt.plot(cell_trace)\n",
    "plt.plot(neuropil_trace)\n",
    "\n",
    "plt.subplot(313)\n",
    "plt.plot(F_corr)"
   ]
  },
  {
   "cell_type": "code",
   "execution_count": null,
   "id": "0aaec0b4",
   "metadata": {},
   "outputs": [],
   "source": [
    "cell_trace = data[:, 40, 39]\n",
    "neuropil_trace = data[:, 45, 39]\n",
    "r = 0.2\n",
    "F_corr = cell_trace - r*neuropil_trace\n",
    "\n",
    "plt.subplot(311)\n",
    "plt.imshow(rep_image, cmap='gray')\n",
    "plt.scatter(60, 30, color='r')\n",
    "plt.scatter(56, 33, color='r', marker='x')\n",
    "\n",
    "plt.subplot(312)\n",
    "plt.plot(cell_trace)\n",
    "plt.plot(neuropil_trace)\n",
    "\n",
    "plt.subplot(313)\n",
    "plt.plot(F_corr)"
   ]
  },
  {
   "cell_type": "markdown",
   "id": "31452787",
   "metadata": {},
   "source": [
    "## Estimating Baseline Fluorescence (F0).\n",
    "\n",
    "Even when a neuron is not active, the signal is not zero because of slow change in signal or noise. This resting level of fluorescence is called **baseline flurorescence** or **F0**. "
   ]
  },
  {
   "cell_type": "code",
   "execution_count": null,
   "id": "02b8571f",
   "metadata": {},
   "outputs": [],
   "source": [
    "cell1_corr_trace = data[:, 40, 39] - 0.7 * data[:, 45, 39]\n",
    "cell2_corr_trace = data[:, 30, 60] - 0.7 * data[:, 33, 56]\n",
    "cell3_corr_trace = data[:, 25, 21] - 0.7 * data[:, 28, 20]"
   ]
  },
  {
   "cell_type": "markdown",
   "id": "1584783c",
   "metadata": {},
   "source": [
    "How do I get baseline activity of my cell and it's okay if I don't consider local variations?\n",
    "\n",
    "**Example** Plot mean baseline activity of Cell 1"
   ]
  },
  {
   "cell_type": "code",
   "execution_count": null,
   "id": "d76ff325",
   "metadata": {},
   "outputs": [],
   "source": [
    "F0 = np.mean(cell1_corr_trace)\n",
    "plt.plot(cell1_corr_trace)\n",
    "plt.axhline(F0, color='r')"
   ]
  },
  {
   "cell_type": "code",
   "execution_count": null,
   "id": "6f5b0262",
   "metadata": {},
   "outputs": [],
   "source": [
    "F0 = np.median(cell2_corr_trace)\n",
    "plt.plot(cell2_corr_trace)\n",
    "plt.axhline(F0, color='r')"
   ]
  },
  {
   "cell_type": "code",
   "execution_count": null,
   "id": "0572738b",
   "metadata": {},
   "outputs": [],
   "source": [
    "F0 = np.percentile(cell3_corr_trace, 10)\n",
    "plt.plot(cell3_corr_trace)\n",
    "plt.axhline(F0, color='r')"
   ]
  },
  {
   "cell_type": "code",
   "execution_count": null,
   "id": "33102dc1",
   "metadata": {},
   "outputs": [],
   "source": [
    "# Smooth the trace\n",
    "smoothed = gaussian_filter1d(cell2_corr_trace, sigma=100)\n",
    "\n",
    "# Take minimum of the smoothed trace\n",
    "F0 = np.min(smoothed)\n",
    "\n",
    "# Plot\n",
    "plt.plot(cell2_corr_trace)\n",
    "plt.axhline(F0, color='r')"
   ]
  },
  {
   "cell_type": "markdown",
   "id": "79b85f48",
   "metadata": {},
   "source": [
    "How do I consider local variations to estimate baseline activity of my cell?\n",
    "\n",
    "**Example** Moving median window baseline to account for local variations Cell 1."
   ]
  },
  {
   "cell_type": "code",
   "execution_count": null,
   "id": "62d427a6",
   "metadata": {},
   "outputs": [],
   "source": [
    "F0 = median_filter(cell1_corr_trace, 501)\n",
    "plt.plot(cell1_corr_trace)\n",
    "plt.plot(F0, color='r')"
   ]
  },
  {
   "cell_type": "code",
   "execution_count": null,
   "id": "b93de230",
   "metadata": {},
   "outputs": [],
   "source": [
    "F0 = median_filter(cell2_corr_trace, 501)\n",
    "plt.plot(cell2_corr_trace)\n",
    "plt.plot(F0, color='r')"
   ]
  },
  {
   "cell_type": "code",
   "execution_count": null,
   "id": "c6d664a5",
   "metadata": {},
   "outputs": [],
   "source": [
    "F0 = median_filter(cell2_corr_trace, 1001)\n",
    "plt.plot(cell2_corr_trace)\n",
    "plt.plot(F0, color='r')"
   ]
  },
  {
   "cell_type": "code",
   "execution_count": null,
   "id": "886a76fb",
   "metadata": {},
   "outputs": [],
   "source": [
    "F0 = median_filter(cell2_corr_trace, 11)\n",
    "plt.plot(cell2_corr_trace)\n",
    "plt.plot(F0, color='r')"
   ]
  },
  {
   "cell_type": "markdown",
   "id": "a4f24e12",
   "metadata": {},
   "source": [
    "## dF/F0 Normalization.\n",
    "\n",
    "We usually want to quantify how much the fluorescence signal increases relative to that baseline so that we can compare signals from different neurons. This is done by computing **ΔF/F₀**, where:\n",
    "\n",
    "$\\Delta F/F_0 = \\frac{F - F_0}{F_0}$\n",
    "\n",
    "\n",
    "Here, **F** is the fluorescence at each time point, and **ΔF** (delta F) is the difference between the current signal and the baseline. The resulting ΔF/F₀ value expresses the signal change as a **fraction of the baseline**, which is useful for comparing activity levels across different cells or imaging sessions."
   ]
  },
  {
   "cell_type": "markdown",
   "id": "8d63e91e",
   "metadata": {},
   "source": [
    "How do I remove baseline activity from my cell's activity?\n",
    "\n",
    "**Example** Remove median baseline activity from cell 1."
   ]
  },
  {
   "cell_type": "code",
   "execution_count": null,
   "id": "22720b92",
   "metadata": {},
   "outputs": [],
   "source": [
    "F0 = np.median(cell1_corr_trace)\n",
    "df = cell1_corr_trace - F0\n",
    "\n",
    "plt.subplot(211)\n",
    "plt.plot(cell1_corr_trace)\n",
    "\n",
    "plt.subplot(212)\n",
    "plt.plot(df)"
   ]
  },
  {
   "cell_type": "code",
   "execution_count": null,
   "id": "1668af12",
   "metadata": {},
   "outputs": [],
   "source": [
    "F0 = median_filter(cell3_corr_trace, 201)\n",
    "df = cell3_corr_trace - F0\n",
    "\n",
    "plt.subplot(211)\n",
    "plt.plot(cell3_corr_trace)\n",
    "\n",
    "plt.subplot(212)\n",
    "plt.plot(df)"
   ]
  },
  {
   "cell_type": "code",
   "execution_count": null,
   "id": "0c83cf8c",
   "metadata": {},
   "outputs": [],
   "source": [
    "F0 = median_filter(cell3_corr_trace, 11)\n",
    "df = cell3_corr_trace - F0\n",
    "\n",
    "plt.subplot(211)\n",
    "plt.plot(cell3_corr_trace)\n",
    "\n",
    "plt.subplot(212)\n",
    "plt.plot(df)"
   ]
  },
  {
   "cell_type": "markdown",
   "id": "4d4b9979",
   "metadata": {},
   "source": [
    "\n",
    "\n",
    "**Example** Plot df/f0 for cell 1"
   ]
  },
  {
   "cell_type": "code",
   "execution_count": null,
   "id": "d8a3196f",
   "metadata": {},
   "outputs": [],
   "source": [
    "F0 = median_filter(cell1_corr_trace, 201)\n",
    "dff = (cell1_corr_trace - F0) / F0\n",
    "\n",
    "plt.subplot(311)\n",
    "plt.plot(cell1_corr_trace)\n",
    "plt.plot(F0, color='r')\n",
    "\n",
    "plt.subplot(312)\n",
    "plt.plot(cell1_corr_trace - F0)\n",
    "\n",
    "plt.subplot(313)\n",
    "plt.plot(dff)"
   ]
  },
  {
   "cell_type": "code",
   "execution_count": null,
   "id": "cb942683",
   "metadata": {},
   "outputs": [],
   "source": [
    "F0 = median_filter(cell2_corr_trace, 201)\n",
    "dff = (cell2_corr_trace - F0) / F0\n",
    "\n",
    "plt.subplot(311)\n",
    "plt.plot(cell2_corr_trace)\n",
    "plt.plot(F0, color='r')\n",
    "\n",
    "plt.subplot(312)\n",
    "plt.plot(cell2_corr_trace - F0)\n",
    "\n",
    "plt.subplot(313)\n",
    "plt.plot(dff)"
   ]
  },
  {
   "cell_type": "code",
   "execution_count": null,
   "id": "cf7314aa",
   "metadata": {},
   "outputs": [],
   "source": [
    "F0 = median_filter(cell3_corr_trace, 201)\n",
    "dff = (cell3_corr_trace - F0) / F0\n",
    "\n",
    "plt.subplot(311)\n",
    "plt.plot(cell3_corr_trace)\n",
    "plt.plot(F0, color='r')\n",
    "\n",
    "plt.subplot(312)\n",
    "plt.plot(cell3_corr_trace - F0)\n",
    "\n",
    "plt.subplot(313)\n",
    "plt.plot(dff)"
   ]
  }
 ],
 "metadata": {
  "kernelspec": {
   "display_name": "calim",
   "language": "python",
   "name": "python3"
  },
  "language_info": {
   "codemirror_mode": {
    "name": "ipython",
    "version": 3
   },
   "file_extension": ".py",
   "mimetype": "text/x-python",
   "name": "python",
   "nbconvert_exporter": "python",
   "pygments_lexer": "ipython3",
   "version": "3.12.3"
  }
 },
 "nbformat": 4,
 "nbformat_minor": 5
}
