{
 "cells": [
  {
   "cell_type": "code",
   "execution_count": 4,
   "id": "6f244d93",
   "metadata": {},
   "outputs": [],
   "source": [
    "import napari\n",
    "import skimage.data\n",
    "import skimage.filters\n",
    "from napari.types import ImageData\n",
    "\n",
    "from magicgui import magicgui\n",
    "import numpy as np\n",
    "from skimage.morphology import label"
   ]
  },
  {
   "cell_type": "markdown",
   "id": "2b197d81",
   "metadata": {},
   "source": [
    "## Create Widgets"
   ]
  },
  {
   "cell_type": "code",
   "execution_count": 5,
   "id": "0367b2f4",
   "metadata": {},
   "outputs": [],
   "source": [
    "\n",
    "@magicgui(\n",
    "    auto_call=True,\n",
    "    sigma={\"widget_type\": \"FloatSlider\", \"max\": 6},\n",
    "    mode={\"choices\": [\"reflect\", \"constant\", \"nearest\", \"mirror\", \"wrap\"]},\n",
    "    layout=\"vertical\",\n",
    ")\n",
    "def gaussian_blur(layer: ImageData, sigma: float = 1.0, mode=\"nearest\") -> ImageData:\n",
    "    # Apply a gaussian blur to 'layer'.\n",
    "    if layer is not None:\n",
    "        return skimage.filters.gaussian(layer, sigma=sigma, mode=mode)\n",
    "\n",
    "\n",
    "\n",
    "@magicgui(\n",
    "    auto_call=True,\n",
    "    threshold={\"widget_type\": \"IntSlider\", \"min\": 0, \"max\": 100},\n",
    "    layout='vertical'\n",
    ")\n",
    "def percentile_mask_label(layer: ImageData, threshold: int = 50) -> ImageData:\n",
    "    if layer is not None:\n",
    "        return label(layer > np.percentile(layer, threshold))"
   ]
  },
  {
   "cell_type": "code",
   "execution_count": null,
   "id": "98858f1f",
   "metadata": {},
   "outputs": [
    {
     "name": "stderr",
     "output_type": "stream",
     "text": [
      "WARNING: QWindowsWindow::setGeometry: Unable to set geometry 640x491+285-1225 (frame: 656x530+277-1256) on QWidgetWindow/\"_QtMainWindowClassWindow\" on \"\\\\.\\DISPLAY2\". Resulting geometry: 512x653+282-1239 (frame: 528x692+274-1270) margins: 8, 31, 8, 8 minimum size: 385x492 MINMAXINFO maxSize=0,0 maxpos=0,0 mintrack=401,531 maxtrack=0,0)\n"
     ]
    }
   ],
   "source": [
    "\n",
    "# create a viewer and add some images\n",
    "viewer = napari.Viewer()\n",
    "viewer.add_image(skimage.data.astronaut().mean(-1), name=\"astronaut\")\n",
    "viewer.add_image(skimage.data.grass().astype(\"float\"), name=\"grass\")\n",
    "\n",
    "# Add it to the napari viewer\n",
    "viewer.window.add_dock_widget(gaussian_blur, name=\"Gaussian Blur\")\n",
    "viewer.window.add_dock_widget(percentile_mask_label, name='Percentile Mask Label', )\n",
    "viewer.layers.events.changed.connect(gaussian_blur.reset_choices)\n",
    "\n",
    "\n",
    "napari.run()"
   ]
  },
  {
   "cell_type": "code",
   "execution_count": null,
   "id": "db02311d",
   "metadata": {},
   "outputs": [],
   "source": []
  }
 ],
 "metadata": {
  "kernelspec": {
   "display_name": "default",
   "language": "python",
   "name": "python3"
  },
  "language_info": {
   "codemirror_mode": {
    "name": "ipython",
    "version": 3
   },
   "file_extension": ".py",
   "mimetype": "text/x-python",
   "name": "python",
   "nbconvert_exporter": "python",
   "pygments_lexer": "ipython3",
   "version": "3.12.10"
  }
 },
 "nbformat": 4,
 "nbformat_minor": 5
}
