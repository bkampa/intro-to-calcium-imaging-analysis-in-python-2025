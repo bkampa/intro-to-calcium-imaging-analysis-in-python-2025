{
 "cells": [
  {
   "cell_type": "code",
   "execution_count": null,
   "id": "b239df60",
   "metadata": {},
   "outputs": [],
   "source": [
    "# %pip install pyocclient \"suite2p[io]\" matplotlib numpy"
   ]
  },
  {
   "cell_type": "code",
   "execution_count": null,
   "id": "99eb0cf8",
   "metadata": {},
   "outputs": [],
   "source": [
    "import matplotlib.pyplot as plt\n",
    "import suite2p"
   ]
  },
  {
   "cell_type": "code",
   "execution_count": null,
   "id": "b9691569",
   "metadata": {},
   "outputs": [],
   "source": [
    "import owncloud\n",
    "import os\n",
    "\n",
    "if not os.path.exists('data'):\n",
    "    print('Creating directory for data')\n",
    "    os.mkdir('data')\n",
    "\n",
    "if not os.path.exists('data/data.tif'):\n",
    "    oc = owncloud.Client.from_public_link('https://uni-bonn.sciebo.de/s/bFDLSfaxRqKlqT7')\n",
    "    oc.get_file('/', 'data/data.tif');"
   ]
  },
  {
   "cell_type": "markdown",
   "id": "d232fdf4",
   "metadata": {},
   "source": [
    "# Suite2p Pipeline"
   ]
  },
  {
   "cell_type": "code",
   "execution_count": null,
   "id": "bc980d05",
   "metadata": {},
   "outputs": [],
   "source": [
    "ops = suite2p.default_ops()"
   ]
  },
  {
   "cell_type": "markdown",
   "id": "0ee0e30a",
   "metadata": {},
   "source": [
    "## Getting and Setting Pipeline Configurations\n",
    "\n",
    "Suite2p provides the ability to configure various parameters, including those for motion correction, through its `ops` dictionary. Let's explore some of the commonly used parameters that we typically set.\n",
    "\n",
    "\n",
    "| **Code**                  | **Description**                                                                                                               |\n",
    "| :------------------------ | :---------------------------------------------------------------------------------------------------------------------------- |\n",
    "| `ops['a']`              | Access the **a** parameter from the `ops` dictionary.                  |\n",
    "| `ops['a'] = 1` | Set the **a** parameter in the `ops` dictionary to **1** |"
   ]
  },
  {
   "cell_type": "markdown",
   "id": "802e31a3",
   "metadata": {},
   "source": [
    "*How do I see the default configurations*\n",
    "\n",
    "**Example** What is the default `tau` value?"
   ]
  },
  {
   "cell_type": "code",
   "execution_count": null,
   "id": "fffe9a79",
   "metadata": {},
   "outputs": [],
   "source": [
    "ops['tau']"
   ]
  },
  {
   "cell_type": "markdown",
   "id": "ff967799",
   "metadata": {},
   "source": [
    "What is the default `fs` value?"
   ]
  },
  {
   "cell_type": "code",
   "execution_count": null,
   "id": "71c7dc58",
   "metadata": {},
   "outputs": [],
   "source": []
  },
  {
   "cell_type": "markdown",
   "id": "f7b343f3",
   "metadata": {},
   "source": [
    "Will suite2p perform non-rigid motion correction by default?"
   ]
  },
  {
   "cell_type": "code",
   "execution_count": null,
   "id": "abaa7810",
   "metadata": {},
   "outputs": [],
   "source": []
  },
  {
   "cell_type": "markdown",
   "id": "8661f9e5",
   "metadata": {},
   "source": [
    "*How do I set pipeline configurations?*\n",
    "\n",
    "**Example** Set `nonrigid` parameter to False "
   ]
  },
  {
   "cell_type": "markdown",
   "id": "b54b5d6a",
   "metadata": {},
   "source": [
    "Set `nonrigid` to False to do rigid registration"
   ]
  },
  {
   "cell_type": "code",
   "execution_count": null,
   "id": "3c24d2e4",
   "metadata": {},
   "outputs": [],
   "source": [
    "ops['nonrigid'] = False\n",
    "ops['nonrigid']"
   ]
  },
  {
   "cell_type": "markdown",
   "id": "b19997a2",
   "metadata": {},
   "source": [
    "Set `fs` to 30"
   ]
  },
  {
   "cell_type": "code",
   "execution_count": null,
   "id": "c15be784",
   "metadata": {},
   "outputs": [],
   "source": []
  },
  {
   "cell_type": "markdown",
   "id": "37787e13",
   "metadata": {},
   "source": [
    "Set `tau` to 0.5"
   ]
  },
  {
   "cell_type": "code",
   "execution_count": null,
   "id": "dc959844",
   "metadata": {},
   "outputs": [],
   "source": []
  },
  {
   "cell_type": "markdown",
   "id": "95135b0e",
   "metadata": {},
   "source": [
    "Setting data specific parameters\n",
    "\n",
    "Set `data_path` to `data/data.tif`"
   ]
  },
  {
   "cell_type": "code",
   "execution_count": null,
   "id": "f0facaf0",
   "metadata": {},
   "outputs": [],
   "source": []
  },
  {
   "cell_type": "markdown",
   "id": "2ea819a1",
   "metadata": {},
   "source": [
    "## Registration Metrics After Running Suite2p\n",
    "\n",
    "Suite2p automatically performs registration when running the pipeline, as demonstrated in the GUI. It also provides several metrics for both rigid and non-rigid motion correction. Let's take a closer look at some of these metrics.\n",
    "\n",
    "\n",
    "| **Code**                         | **Description**                                                                                            |\n",
    "| :------------------------------- | :--------------------------------------------------------------------------------------------------------- |\n",
    "| `ops['yoff']`                    | Access the **y shifts** from **rigid motion correction** stored in the `ops` dictionary.                   |\n",
    "| `ops['xoff']`                    | Access the **x shifts** from **rigid motion correction** stored in the `ops` dictionary.                   |\n",
    "| `ops['yoff1']`                   | Access the **y shifts** from **non-rigid motion correction** on all blocks stored in the `ops` dictionary. |\n",
    "| `ops['yoff1'][:, 0]`             | Access the **y shifts** for all frames from the first block in **non-rigid motion correction**.            |\n",
    "| `ops['block_size'] = [100, 100]` | Set the **block size** for motion correction to **100x100 pixels** in the `ops` dictionary.                |"
   ]
  },
  {
   "cell_type": "markdown",
   "id": "fa548e43",
   "metadata": {},
   "source": [
    "*How do I get motion trace?*\n",
    "\n",
    "**Example** Run suite2p with default parameters in `output` directory and plot rigid motion trace."
   ]
  },
  {
   "cell_type": "code",
   "execution_count": null,
   "id": "3386dc88",
   "metadata": {},
   "outputs": [],
   "source": [
    "ops = suite2p.default_ops()\n",
    "ops['data_path'] = ['data/']\n",
    "ops['save_path0'] = 'output/'\n",
    "ops['nonrigid'] = False\n",
    "ops = suite2p.run_s2p(ops=ops)\n",
    "plt.plot(ops['yoff'])\n",
    "plt.plot(ops['xoff'])"
   ]
  },
  {
   "cell_type": "markdown",
   "id": "acd1d557",
   "metadata": {},
   "source": [
    "Run non-rigid motion correction"
   ]
  },
  {
   "cell_type": "code",
   "execution_count": null,
   "id": "ad3bc1c1",
   "metadata": {},
   "outputs": [],
   "source": []
  },
  {
   "cell_type": "markdown",
   "id": "436126bf",
   "metadata": {},
   "source": [
    "Plot non-rigid motion trace for the first block."
   ]
  },
  {
   "cell_type": "code",
   "execution_count": null,
   "id": "252f4172",
   "metadata": {},
   "outputs": [],
   "source": []
  },
  {
   "cell_type": "markdown",
   "id": "1c8cd326",
   "metadata": {},
   "source": [
    "Plot non-rigid motion trace for the second block."
   ]
  },
  {
   "cell_type": "code",
   "execution_count": null,
   "id": "cb1d9589",
   "metadata": {},
   "outputs": [],
   "source": []
  },
  {
   "cell_type": "markdown",
   "id": "a6f1407f",
   "metadata": {},
   "source": [
    "Plot non-rigid motion trace for the third block."
   ]
  },
  {
   "cell_type": "code",
   "execution_count": null,
   "id": "64798b9d",
   "metadata": {},
   "outputs": [],
   "source": []
  },
  {
   "cell_type": "markdown",
   "id": "aab96663",
   "metadata": {},
   "source": [
    "Plot non-rigid motion trace for the fourth block."
   ]
  },
  {
   "cell_type": "code",
   "execution_count": null,
   "id": "7e1708e0",
   "metadata": {},
   "outputs": [],
   "source": []
  },
  {
   "cell_type": "markdown",
   "id": "8be94c03",
   "metadata": {},
   "source": [
    "*How do I change block size?*\n",
    "\n",
    "**Example** Change block size to 100 x 100 and perform non-rigid motion correction. How many blocks were made?"
   ]
  },
  {
   "cell_type": "code",
   "execution_count": null,
   "id": "0a04a59a",
   "metadata": {},
   "outputs": [],
   "source": [
    "ops = suite2p.default_ops()\n",
    "ops['data_path'] = ['data/']\n",
    "ops['save_path0'] = 'output_3/'\n",
    "ops['nonrigid'] = True\n",
    "ops['block_size'] = [100, 100]\n",
    "ops = suite2p.run_s2p(ops=ops);\n",
    "ops['yoff1'].shape"
   ]
  },
  {
   "cell_type": "markdown",
   "id": "7862bcc3",
   "metadata": {},
   "source": [
    "Change block size to 170 x 170 and perform non-rigid motion correction. How many blocks were made?"
   ]
  },
  {
   "cell_type": "code",
   "execution_count": null,
   "id": "128a2c04",
   "metadata": {},
   "outputs": [],
   "source": []
  },
  {
   "cell_type": "markdown",
   "id": "d63edc8b",
   "metadata": {},
   "source": [
    "## Visualizations From Suite2p\n",
    "\n",
    "These keys in the ops dictionary store different projections and the reference image used during the image registration process.\n",
    "\n",
    "\n",
    "| **Code**   | **Description**                                                                |\n",
    "| :--------- | :----------------------------------------------------------------------------- |\n",
    "| `refImg`   | Reference **image** used for **registration** in the `ops` dictionary.         |\n",
    "| `max_proj` | **Maximum projection** of the registered image stored in the `ops` dictionary. |\n",
    "| `meanImg`  | **Mean projection** of the registered image stored in the `ops` dictionary.    |"
   ]
  },
  {
   "cell_type": "markdown",
   "id": "9f164976",
   "metadata": {},
   "source": [
    "Plot reference image used for registration"
   ]
  },
  {
   "cell_type": "code",
   "execution_count": null,
   "id": "6a8b402e",
   "metadata": {},
   "outputs": [],
   "source": []
  },
  {
   "cell_type": "markdown",
   "id": "8619eeab",
   "metadata": {},
   "source": [
    "Plot maximum projection of registered image"
   ]
  },
  {
   "cell_type": "code",
   "execution_count": null,
   "id": "84f3f6a6",
   "metadata": {},
   "outputs": [],
   "source": []
  },
  {
   "cell_type": "markdown",
   "id": "4a20c450",
   "metadata": {},
   "source": [
    "Plot mean projection of registered image."
   ]
  },
  {
   "cell_type": "code",
   "execution_count": null,
   "id": "5138f109",
   "metadata": {},
   "outputs": [],
   "source": []
  }
 ],
 "metadata": {
  "kernelspec": {
   "display_name": "s2p",
   "language": "python",
   "name": "python3"
  },
  "language_info": {
   "codemirror_mode": {
    "name": "ipython",
    "version": 3
   },
   "file_extension": ".py",
   "mimetype": "text/x-python",
   "name": "python",
   "nbconvert_exporter": "python",
   "pygments_lexer": "ipython3",
   "version": "3.9.21"
  }
 },
 "nbformat": 4,
 "nbformat_minor": 5
}
