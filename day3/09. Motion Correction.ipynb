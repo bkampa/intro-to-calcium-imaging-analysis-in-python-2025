{
 "cells": [
  {
   "cell_type": "code",
   "execution_count": null,
   "id": "14b97997",
   "metadata": {},
   "outputs": [],
   "source": [
    "import numpy as np\n",
    "import tifffile\n",
    "import matplotlib.pyplot as plt\n",
    "from skimage.registration import phase_cross_correlation\n",
    "from scipy.ndimage import shift\n",
    "import napari"
   ]
  },
  {
   "cell_type": "code",
   "execution_count": null,
   "id": "4101abd9",
   "metadata": {},
   "outputs": [],
   "source": [
    "import owncloud\n",
    "import os\n",
    "\n",
    "if not os.path.exists('data'):\n",
    "    print('Creating directory for data')\n",
    "    os.mkdir('data')\n",
    "\n",
    "if not os.path.exists('data/data.tif'):\n",
    "    oc = owncloud.Client.from_public_link('https://uni-bonn.sciebo.de/s/bFDLSfaxRqKlqT7')\n",
    "    oc.get_file('/', 'data/data.tif');"
   ]
  },
  {
   "cell_type": "code",
   "execution_count": null,
   "id": "d5ef0bc1",
   "metadata": {},
   "outputs": [],
   "source": [
    "movie = tifffile.imread('data/data.tif')\n",
    "movie.shape"
   ]
  },
  {
   "cell_type": "markdown",
   "id": "bdd90c7d",
   "metadata": {},
   "source": [
    "## Recognizing Motion\n",
    "\n",
    "Before beginning motion correction, it is important to first recognize the type and extent of motion present in the calcium imaging dataset. This section introduces the process of visually and quantitatively identifying motion artifacts and determining whether rigid correction is appropriate. You will also prepare the dataset by generating a reference frame and ensuring consistent intensity across frames. These preparatory steps are essential for enabling accurate and reliable correction in the following stages.\n",
    "\n",
    "| **Code**           | **Description**                                                         |\n",
    "| :----------------- | :---------------------------------------------------------------------- |\n",
    "| `movie[:200]`      | Access the first 200 elements of the **movie** array or list.           |\n",
    "| `movie[1000:1200]` | Access elements from index 1000 to 1199 of the **movie** array or list. |\n"
   ]
  },
  {
   "cell_type": "markdown",
   "id": "2bff320e",
   "metadata": {},
   "source": [
    "*How do I see if there is motion?*\n",
    "\n",
    "**Example** Open and play movie in napari. Is there motion?"
   ]
  },
  {
   "cell_type": "code",
   "execution_count": null,
   "id": "788c2ac9",
   "metadata": {},
   "outputs": [],
   "source": [
    "viewer = napari.Viewer()"
   ]
  },
  {
   "cell_type": "code",
   "execution_count": null,
   "id": "2e41f54c",
   "metadata": {},
   "outputs": [],
   "source": [
    "viewer.add_image(movie)"
   ]
  },
  {
   "cell_type": "markdown",
   "id": "b3b1e80a",
   "metadata": {},
   "source": [
    "Open the first 200 frames of the movie. Is there motion?"
   ]
  },
  {
   "cell_type": "code",
   "execution_count": null,
   "id": "caded43b",
   "metadata": {},
   "outputs": [],
   "source": []
  },
  {
   "cell_type": "markdown",
   "id": "6c8553a1",
   "metadata": {},
   "source": [
    "Open the frames between 1000 and 1200 of the movie. Is there motion?"
   ]
  },
  {
   "cell_type": "code",
   "execution_count": null,
   "id": "24b2e2a0",
   "metadata": {},
   "outputs": [],
   "source": []
  },
  {
   "cell_type": "markdown",
   "id": "8bbd8e20",
   "metadata": {},
   "source": [
    "Will this motion make summary images blurry?\n",
    "\n",
    "**Example** Create mean projection of all the frames of the movie."
   ]
  },
  {
   "cell_type": "code",
   "execution_count": null,
   "id": "5c41399f",
   "metadata": {},
   "outputs": [],
   "source": [
    "proj = movie.mean(axis=0)\n",
    "plt.imshow(proj, cmap='gray')"
   ]
  },
  {
   "cell_type": "markdown",
   "id": "77d8d379",
   "metadata": {},
   "source": [
    "Create mean projection of frames between 1000 and 1200 of the movie."
   ]
  },
  {
   "cell_type": "code",
   "execution_count": null,
   "id": "a23e4a71",
   "metadata": {},
   "outputs": [],
   "source": []
  },
  {
   "cell_type": "markdown",
   "id": "fae9523a",
   "metadata": {},
   "source": [
    "Create mean projection of frames of the first 200 frames of the movie."
   ]
  },
  {
   "cell_type": "code",
   "execution_count": null,
   "id": "27de8261",
   "metadata": {},
   "outputs": [],
   "source": []
  },
  {
   "cell_type": "markdown",
   "id": "193b5d67",
   "metadata": {},
   "source": [
    "## **Estimating Frame Shifts Relative to a Reference**\n",
    "\n",
    "To correct for motion, it is necessary to know how much each frame in the movie has shifted relative to a stable reference. This section introduces the concept of shift estimation by comparing each frame to the reference image. The outcome is a set of displacement values for each frame that can be used to realign the dataset. By the end of this section, you will understand how motion is quantified and how to structure this information for use in the correction step.\n",
    "\n",
    "| **Code**                                    | **Description**                                                                                                     |\n",
    "| :------------------------------------------ | :------------------------------------------------------------------------------------------------------------------ |\n",
    "| `phase_cross_correlation(frame_ref, frame)` | Compute the phase cross-correlation between **frame\\_ref** and **frame** to determine the shift between them.       |\n",
    "| `shift(frame, shift=shift_val)`             | Apply a shift to the **frame** by **shift\\_val** using the **shift** function, modifying the position of the frame. |\n"
   ]
  },
  {
   "cell_type": "markdown",
   "id": "f6356dac",
   "metadata": {},
   "source": [
    "Each shift is a pair of values: [dy, dx], indicating how much the image needs to move to align with the reference frame.\n",
    "\n",
    "|                       | `dy` (Vertical Shift)     | `dx` (Horizontal Shift)   |\n",
    "|-----------------------|---------------------------|---------------------------|\n",
    "| **Meaning**           | Vertical movement         | Horizontal movement       |\n",
    "| **Positive Value**    | Move frame **downward**   | Move frame **right**      |\n",
    "| **Negative Value**    | Move frame **upward**     | Move frame **left**       |"
   ]
  },
  {
   "cell_type": "markdown",
   "id": "d8a423a6",
   "metadata": {},
   "source": [
    "*How do I get shifts of of frames with respect to a frame in the movie?*\n",
    "\n",
    "**Example** Compute shifts between the first frame and the zeroth frame."
   ]
  },
  {
   "cell_type": "code",
   "execution_count": null,
   "id": "0de60842",
   "metadata": {},
   "outputs": [],
   "source": [
    "shift_val, _, _ = phase_cross_correlation(movie[0], movie[1])\n",
    "shift_val"
   ]
  },
  {
   "cell_type": "markdown",
   "id": "653352eb",
   "metadata": {},
   "source": [
    "Compute shifts between frame 0 and the last frame."
   ]
  },
  {
   "cell_type": "code",
   "execution_count": null,
   "id": "975351ee",
   "metadata": {},
   "outputs": [],
   "source": []
  },
  {
   "cell_type": "markdown",
   "id": "7546421c",
   "metadata": {},
   "source": [
    "Compute shifts between the 1000th frame and the 200th frame."
   ]
  },
  {
   "cell_type": "code",
   "execution_count": null,
   "id": "8c79f324",
   "metadata": {},
   "outputs": [],
   "source": []
  },
  {
   "cell_type": "markdown",
   "id": "71d31519",
   "metadata": {},
   "source": [
    "*How do I compute shifts between a frame and a summary frame?*\n",
    "\n",
    "**Example** What is the shift between the first frame and mean projection of all frames?"
   ]
  },
  {
   "cell_type": "code",
   "execution_count": null,
   "id": "22722f03",
   "metadata": {},
   "outputs": [],
   "source": [
    "sum_frame = movie.mean(axis=0)\n",
    "shift_val, _, _ = phase_cross_correlation(sum_frame, movie[0])\n",
    "shift_val"
   ]
  },
  {
   "cell_type": "markdown",
   "id": "2fe10c06",
   "metadata": {},
   "source": [
    "What is the shift between the first frame and mean projection of frames between 1000 and 1200?"
   ]
  },
  {
   "cell_type": "code",
   "execution_count": null,
   "id": "d01ad2e0",
   "metadata": {},
   "outputs": [],
   "source": []
  },
  {
   "cell_type": "markdown",
   "id": "9e25e3a5",
   "metadata": {},
   "source": [
    "What is the shift between the last frame and mean projection of frames between 1000 and 1200?"
   ]
  },
  {
   "cell_type": "code",
   "execution_count": null,
   "id": "8042ec45",
   "metadata": {},
   "outputs": [],
   "source": []
  },
  {
   "cell_type": "markdown",
   "id": "6ddf9c08",
   "metadata": {},
   "source": [
    "*How do I align a frame with another frame?*\n",
    "\n",
    "**Example** Align second frame with the first frame."
   ]
  },
  {
   "cell_type": "code",
   "execution_count": null,
   "id": "292c28b6",
   "metadata": {},
   "outputs": [],
   "source": [
    "shift_val, _, _ = phase_cross_correlation(movie[0], movie[1])  \n",
    "aligned = shift(movie[1], shift=shift_val)  \n",
    "\n",
    "plt.subplot(1, 2, 1)\n",
    "plt.imshow(movie[0], cmap='gray')  \n",
    "plt.title(\"Reference\")\n",
    "\n",
    "plt.subplot(1, 2, 2)\n",
    "plt.imshow(aligned - movie[0], cmap='gray')  \n",
    "plt.title(\"Difference After Alignment\")\n",
    "\n",
    "plt.tight_layout()\n"
   ]
  },
  {
   "cell_type": "markdown",
   "id": "de60073d",
   "metadata": {},
   "source": [
    "Align 201th frame with the first frame."
   ]
  },
  {
   "cell_type": "code",
   "execution_count": null,
   "id": "438b0a4f",
   "metadata": {},
   "outputs": [],
   "source": []
  },
  {
   "cell_type": "markdown",
   "id": "3360c171",
   "metadata": {},
   "source": [
    "Align the last frame with the first frame."
   ]
  },
  {
   "cell_type": "code",
   "execution_count": null,
   "id": "18734b3d",
   "metadata": {},
   "outputs": [],
   "source": []
  },
  {
   "cell_type": "markdown",
   "id": "832a6acd",
   "metadata": {},
   "source": [
    "*How do I align my frame with a summary frame?*\n",
    "\n",
    "**Example** Align the first frame with mean projection of all frames."
   ]
  },
  {
   "cell_type": "code",
   "execution_count": null,
   "id": "238f7318",
   "metadata": {},
   "outputs": [],
   "source": [
    "sum_frame = movie.mean(axis=0)\n",
    "shift_val, _, _ = phase_cross_correlation(sum_frame, movie[0])  \n",
    "aligned = shift(movie[0], shift=shift_val)  \n",
    "\n",
    "plt.subplot(1, 2, 1)\n",
    "plt.imshow(sum_frame, cmap='gray')  \n",
    "plt.title(\"Reference\")\n",
    "\n",
    "plt.subplot(1, 2, 2)\n",
    "plt.imshow(aligned - movie[0], cmap='gray')  \n",
    "plt.title(\"Difference After Alignment\")\n",
    "\n",
    "plt.tight_layout()\n"
   ]
  },
  {
   "cell_type": "markdown",
   "id": "aadfbe97",
   "metadata": {},
   "source": [
    "Align the first frame with mean projection of frames between 1000 and 1200."
   ]
  },
  {
   "cell_type": "code",
   "execution_count": null,
   "id": "8a7b2761",
   "metadata": {},
   "outputs": [],
   "source": []
  },
  {
   "cell_type": "markdown",
   "id": "9787e42c",
   "metadata": {},
   "source": [
    "Align the last frame with mean projection of all frame between 1000 and 1200."
   ]
  },
  {
   "cell_type": "code",
   "execution_count": null,
   "id": "23230ae9",
   "metadata": {},
   "outputs": [],
   "source": []
  },
  {
   "cell_type": "markdown",
   "id": "31479908",
   "metadata": {},
   "source": [
    "## Motion Trace\n",
    "\n",
    "The motion trace is a plot of frame-by-frame shifts along the X and Y directions. \n",
    "\n",
    "**A good trace should look have**\n",
    "- small fluctuations.\n",
    "- no sudden jumps between neighboring frames.\n",
    "\n",
    "**Signs of outliers**\n",
    "- sudden spike in shift (Y or X direction).\n",
    "- flatline followed by a jump could suggest a movement event or an error in frame reading.\n",
    "- one frame with extreme values compared to neighbors which may need to be excluded or handled separately.\n",
    "\n",
    "| **Code**           | **Description**                                                                   |\n",
    "| :----------------- | :-------------------------------------------------------------------------------- |\n",
    "| `plt.plot(shifts)` | Plot the **shifts** array or list using Matplotlib to visualize the shift values. |\n"
   ]
  },
  {
   "cell_type": "markdown",
   "id": "53c3b67c",
   "metadata": {},
   "source": [
    "*How do I see if my frames were affected significantly by motion*\n",
    "\n",
    "**Example** Plot motion trace by estimating shifts with respect to the first frame."
   ]
  },
  {
   "cell_type": "code",
   "execution_count": null,
   "id": "b4fd0ff4",
   "metadata": {},
   "outputs": [],
   "source": [
    "sum_frame = movie[0]\n",
    "shifts = np.array([phase_cross_correlation(sum_frame, frame)[0] for frame in movie])\n",
    "plt.plot(shifts);"
   ]
  },
  {
   "cell_type": "markdown",
   "id": "7514bf34",
   "metadata": {},
   "source": [
    "Plot motion trace by estimating shifts with respect to the mean projection of all frames."
   ]
  },
  {
   "cell_type": "code",
   "execution_count": null,
   "id": "dd655700",
   "metadata": {},
   "outputs": [],
   "source": []
  },
  {
   "cell_type": "markdown",
   "id": "a104ecf3",
   "metadata": {},
   "source": [
    "Plot motion trace by estimating shifts with respect to the mean projection of frames between 1000 and 1200."
   ]
  },
  {
   "cell_type": "code",
   "execution_count": null,
   "id": "5d8d5ab0",
   "metadata": {},
   "outputs": [],
   "source": []
  },
  {
   "cell_type": "markdown",
   "id": "c21de54e",
   "metadata": {},
   "source": [
    "*How do I handle borders?*\n",
    "\n",
    "| Mode        | What It Does                                                                 | Expected Plot Behavior                          |\n",
    "|-------------|------------------------------------------------------------------------------|-------------------------------------------------|\n",
    "| `constant`  | Pads shifted-in regions with a fixed value (default = 0)                     | Sudden **spikes or drops** in intensity at frames with large shifts |\n",
    "| `nearest`   | Extends the edge of the image by repeating the closest pixel                 | **Smooth**, closely tracks the original trace   |\n",
    "| `reflect`   | Mirrors pixel values from inside the image at the edges                      | **Smooth**, but with slightly more variation    |"
   ]
  },
  {
   "cell_type": "markdown",
   "id": "03c3c7b2",
   "metadata": {},
   "source": [
    "**Example** Apply constant border and compare intensity variation for top 5 pixels of original and motion corrected mean projections"
   ]
  },
  {
   "cell_type": "code",
   "execution_count": null,
   "id": "a932bafc",
   "metadata": {},
   "outputs": [],
   "source": [
    "sum_frame = movie[1000:1200].mean(axis=0)\n",
    "shifts = np.array([phase_cross_correlation(sum_frame, frame)[0] for frame in movie])"
   ]
  },
  {
   "cell_type": "code",
   "execution_count": null,
   "id": "775e64ce",
   "metadata": {},
   "outputs": [],
   "source": [
    "aligned = np.array([shift(f, shift=sh, mode='constant') for f, sh in zip(movie, shifts)])\n",
    "\n",
    "border_orig = np.mean(movie[:, :5, :], axis=(1,2))\n",
    "border_aligned = np.mean(aligned[:, :5, :], axis=(1,2))\n",
    "\n",
    "plt.plot(border_orig, label='Original')\n",
    "plt.plot(border_aligned, label='Aligned')\n",
    "plt.legend()"
   ]
  },
  {
   "cell_type": "markdown",
   "id": "5c73a078",
   "metadata": {},
   "source": [
    "Apply nearest border and compare intensity variation for top 5 pixels of original and motion corrected mean projections"
   ]
  },
  {
   "cell_type": "code",
   "execution_count": null,
   "id": "5711f86b",
   "metadata": {},
   "outputs": [],
   "source": []
  },
  {
   "cell_type": "markdown",
   "id": "99650dd5",
   "metadata": {},
   "source": [
    "Apply reflect border and compare intensity variation for top 5 pixels of original and motion corrected mean projections"
   ]
  },
  {
   "cell_type": "code",
   "execution_count": null,
   "id": "7d76de65",
   "metadata": {},
   "outputs": [],
   "source": []
  },
  {
   "cell_type": "markdown",
   "id": "10ae7ecf",
   "metadata": {},
   "source": [
    "**DEMO** Seeing motion corrected video"
   ]
  },
  {
   "cell_type": "code",
   "execution_count": null,
   "id": "c7e32608",
   "metadata": {},
   "outputs": [],
   "source": [
    "viewer.add_image(aligned)"
   ]
  },
  {
   "cell_type": "code",
   "execution_count": null,
   "id": "b40bdfc3",
   "metadata": {},
   "outputs": [],
   "source": [
    "viewer.add_image(aligned - movie)"
   ]
  }
 ],
 "metadata": {
  "kernelspec": {
   "display_name": "calim",
   "language": "python",
   "name": "python3"
  },
  "language_info": {
   "codemirror_mode": {
    "name": "ipython",
    "version": 3
   },
   "file_extension": ".py",
   "mimetype": "text/x-python",
   "name": "python",
   "nbconvert_exporter": "python",
   "pygments_lexer": "ipython3",
   "version": "3.12.3"
  }
 },
 "nbformat": 4,
 "nbformat_minor": 5
}
