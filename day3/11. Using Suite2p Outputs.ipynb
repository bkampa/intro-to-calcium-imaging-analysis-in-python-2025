{
 "cells": [
  {
   "cell_type": "code",
   "execution_count": null,
   "id": "157486a0",
   "metadata": {},
   "outputs": [],
   "source": [
    "import numpy as np\n",
    "import matplotlib.pyplot as plt\n",
    "import tifffile"
   ]
  },
  {
   "cell_type": "code",
   "execution_count": null,
   "id": "8442d2fe",
   "metadata": {},
   "outputs": [],
   "source": [
    "import owncloud\n",
    "import os\n",
    "\n",
    "if not os.path.exists('data'):\n",
    "    print('Creating directory for data')\n",
    "    os.mkdir('data')\n",
    "\n",
    "if not os.path.exists('data/demoMovie.tif'):\n",
    "    oc = owncloud.Client.from_public_link('https://uni-bonn.sciebo.de/s/NwtdrIg5wGdeGcB')\n",
    "    oc.get_file('/', 'data/demoMovie.tif');\n",
    "\n",
    "if not os.path.exists('data/F.npy'):\n",
    "    oc = owncloud.Client.from_public_link('https://uni-bonn.sciebo.de/s/Gy3IXkMz3J5drwJ')\n",
    "    oc.get_file('/', 'data/F.npy');\n",
    "\n",
    "if not os.path.exists('data/Fneu.npy'):\n",
    "    oc = owncloud.Client.from_public_link('https://uni-bonn.sciebo.de/s/4sL0IyGnGFgcWyj')\n",
    "    oc.get_file('/', 'data/Fneu.npy');\n",
    "\n",
    "if not os.path.exists('data/iscell.npy'):\n",
    "    oc = owncloud.Client.from_public_link('https://uni-bonn.sciebo.de/s/Dp8dAdojbDs7Vpc')\n",
    "    oc.get_file('/', 'data/iscell.npy');\n",
    "\n",
    "if not os.path.exists('data/ops.npy'):\n",
    "    oc = owncloud.Client.from_public_link('https://uni-bonn.sciebo.de/s/oHULKwKSMhUrLPA')\n",
    "    oc.get_file('/', 'data/ops.npy');\n",
    "\n",
    "if not os.path.exists('data/spks.npy'):\n",
    "    oc = owncloud.Client.from_public_link('https://uni-bonn.sciebo.de/s/dgufx5qN22SUoGg')\n",
    "    oc.get_file('/', 'data/spks.npy');\n",
    "\n",
    "if not os.path.exists('data/stat.npy'):\n",
    "    oc = owncloud.Client.from_public_link('https://uni-bonn.sciebo.de/s/StGQCaqIvNwrtuy')\n",
    "    oc.get_file('/', 'data/stat.npy');"
   ]
  },
  {
   "cell_type": "code",
   "execution_count": null,
   "id": "356f1ae0",
   "metadata": {},
   "outputs": [],
   "source": [
    "data = tifffile.imread('data/data.tif')"
   ]
  },
  {
   "cell_type": "markdown",
   "id": "2ab3aab3",
   "metadata": {},
   "source": [
    "# Outputs From Suite2p\n",
    "\n",
    "| **File**     | **Description**                                                                                                                                                                                       |\n",
    "| :----------- | :---------------------------------------------------------------------------------------------------------------------------------------------------------------------------------------------------- |\n",
    "| `F.npy`      | Array containing fluorescence traces for each ROI (regions of interest) over timepoints.                                                                                                              |\n",
    "| `Fneu.npy`   | Array containing neuropil fluorescence traces for each ROI (regions of interest) over timepoints.                                                                                                     |\n",
    "| `spks.npy`   | Array containing deconvolved traces for each ROI (regions of interest) over timepoints.                                                                                                               |\n",
    "| `stat.npy`   | List of statistics computed for each cell (one value per ROI).                                                                                                                                        |\n",
    "                                                    |\n",
    "| `iscell.npy` | Array indicating whether an ROI corresponds to a cell. The first column shows 0/1 (cell or not), and the second column gives the probability of the ROI being a cell based on the default classifier. |\n"
   ]
  },
  {
   "cell_type": "markdown",
   "id": "72b889d8",
   "metadata": {},
   "source": [
    "## Loading Outputs From Suite2p\n",
    "\n",
    "| **Code**                                   | **Description**                                                                             |\n",
    "| :----------------------------------------- | :------------------------------------------------------------------------------------------ |\n",
    "| `np.load('F.npy')`                    | Load the **F.npy** without allowing pickled objects.       |\n",
    "| `np.load('F.npy', allow_pickle=True)` | Load the **F.npy** and allow pickled objects to be loaded. |\n"
   ]
  },
  {
   "cell_type": "markdown",
   "id": "7a5629f1",
   "metadata": {},
   "source": [
    "**Example** Load F.npy as f_cells"
   ]
  },
  {
   "cell_type": "code",
   "execution_count": null,
   "id": "48e6fd73",
   "metadata": {},
   "outputs": [],
   "source": [
    "f_cells = np.load('data/F.npy')"
   ]
  },
  {
   "cell_type": "markdown",
   "id": "7dd3fc64",
   "metadata": {},
   "source": [
    "Load Fneu.npy  as f_neu"
   ]
  },
  {
   "cell_type": "code",
   "execution_count": null,
   "id": "c4868348",
   "metadata": {},
   "outputs": [],
   "source": []
  },
  {
   "cell_type": "markdown",
   "id": "60a63340",
   "metadata": {},
   "source": [
    "Load iscell.npy  as iscell"
   ]
  },
  {
   "cell_type": "code",
   "execution_count": null,
   "id": "b0d82c34",
   "metadata": {},
   "outputs": [],
   "source": []
  },
  {
   "cell_type": "markdown",
   "id": "2bd8d7fa",
   "metadata": {},
   "source": [
    "Load spks.npy as spks"
   ]
  },
  {
   "cell_type": "code",
   "execution_count": null,
   "id": "244f07c0",
   "metadata": {},
   "outputs": [],
   "source": []
  },
  {
   "cell_type": "markdown",
   "id": "3a44b24a",
   "metadata": {},
   "source": [
    "Load stat.npy as stats"
   ]
  },
  {
   "cell_type": "code",
   "execution_count": null,
   "id": "cbca38e8",
   "metadata": {},
   "outputs": [],
   "source": []
  },
  {
   "cell_type": "markdown",
   "id": "d0d2c21c",
   "metadata": {},
   "source": [
    "## F.npy and Fneu.npy\n",
    "\n",
    "| **Code**               | **Description**                                                        |\n",
    "| :--------------------- | :--------------------------------------------------------------------- |\n",
    "| `f_cells[1]`           | Access the second element (index 1) of the **f\\_cells** list or array. |\n",
    "| `plt.plot(f_cells[1])` | Plot the second element (index 1) of **f\\_cells** using Matplotlib.    |"
   ]
  },
  {
   "cell_type": "markdown",
   "id": "79075363",
   "metadata": {},
   "source": [
    "**Example** Plot cell fluorescence of second cell."
   ]
  },
  {
   "cell_type": "code",
   "execution_count": null,
   "id": "e6e991d9",
   "metadata": {},
   "outputs": [],
   "source": [
    "plt.plot(f_cells[1])"
   ]
  },
  {
   "cell_type": "markdown",
   "id": "65f66fd6",
   "metadata": {},
   "source": [
    "Plot cell fluorescence of ninth cell."
   ]
  },
  {
   "cell_type": "code",
   "execution_count": null,
   "id": "fc63bc11",
   "metadata": {},
   "outputs": [],
   "source": []
  },
  {
   "cell_type": "markdown",
   "id": "47918dd7",
   "metadata": {},
   "source": [
    "Plot cell fluorescence of last cell."
   ]
  },
  {
   "cell_type": "code",
   "execution_count": null,
   "id": "8f3ac783",
   "metadata": {},
   "outputs": [],
   "source": []
  },
  {
   "cell_type": "markdown",
   "id": "52641d40",
   "metadata": {},
   "source": [
    "**Example** Plot neuropil fluorescence of second cell."
   ]
  },
  {
   "cell_type": "code",
   "execution_count": null,
   "id": "1a94b9b2",
   "metadata": {},
   "outputs": [],
   "source": [
    "plt.plot(f_cells[1])\n",
    "plt.plot(f_neu[1])"
   ]
  },
  {
   "cell_type": "markdown",
   "id": "114a5405",
   "metadata": {},
   "source": [
    "Plot neuropil fluorescence of ninth cell."
   ]
  },
  {
   "cell_type": "code",
   "execution_count": null,
   "id": "d35fe965",
   "metadata": {},
   "outputs": [],
   "source": []
  },
  {
   "cell_type": "markdown",
   "id": "25148b79",
   "metadata": {},
   "source": [
    "Plot neuropil fluorescence of last cell."
   ]
  },
  {
   "cell_type": "code",
   "execution_count": null,
   "id": "b7109d26",
   "metadata": {},
   "outputs": [],
   "source": []
  },
  {
   "cell_type": "markdown",
   "id": "58be992f",
   "metadata": {},
   "source": [
    "**Example** Plot deconvolved traces from cell 2."
   ]
  },
  {
   "cell_type": "code",
   "execution_count": null,
   "id": "71a3baba",
   "metadata": {},
   "outputs": [],
   "source": [
    "plt.plot(spks[1])"
   ]
  },
  {
   "cell_type": "markdown",
   "id": "b853226d",
   "metadata": {},
   "source": [
    "Plot deconvolved traces from cell 9."
   ]
  },
  {
   "cell_type": "code",
   "execution_count": null,
   "id": "112f5437",
   "metadata": {},
   "outputs": [],
   "source": []
  },
  {
   "cell_type": "markdown",
   "id": "35c236d9",
   "metadata": {},
   "source": [
    "Plot deconvolved traces from last cell."
   ]
  },
  {
   "cell_type": "code",
   "execution_count": null,
   "id": "78c7e5ea",
   "metadata": {},
   "outputs": [],
   "source": []
  },
  {
   "cell_type": "markdown",
   "id": "f6676f06",
   "metadata": {},
   "source": [
    "## stat.npy\n",
    "\n",
    "| **Code**         | **Description**                                                                                           |\n",
    "| :--------------- | :-------------------------------------------------------------------------------------------------------- |\n",
    "| `stat['npix']`   | Access the **npix** value from the **stat** dictionary, typically representing the number of pixels.      |\n",
    "| `stat['radius']` | Access the **radius** value from the **stat** dictionary, typically representing the radius of an object. |\n"
   ]
  },
  {
   "cell_type": "markdown",
   "id": "194eae77",
   "metadata": {},
   "source": [
    "**Example** How many pixels are in cell 2?"
   ]
  },
  {
   "cell_type": "code",
   "execution_count": null,
   "id": "44dd40d6",
   "metadata": {},
   "outputs": [],
   "source": [
    "stat = stats[1]\n",
    "stat['npix']"
   ]
  },
  {
   "cell_type": "markdown",
   "id": "e92e9ec1",
   "metadata": {},
   "source": [
    "How many pixels are in cell 9?"
   ]
  },
  {
   "cell_type": "code",
   "execution_count": null,
   "id": "a0675ca1",
   "metadata": {},
   "outputs": [],
   "source": []
  },
  {
   "cell_type": "markdown",
   "id": "3111ef11",
   "metadata": {},
   "source": [
    "How many pixels are in last cell?"
   ]
  },
  {
   "cell_type": "code",
   "execution_count": null,
   "id": "d220534c",
   "metadata": {},
   "outputs": [],
   "source": []
  },
  {
   "cell_type": "markdown",
   "id": "3b7ecc82",
   "metadata": {},
   "source": [
    "**Example** What is the estimated radius of the cell 1?"
   ]
  },
  {
   "cell_type": "code",
   "execution_count": null,
   "id": "6ff788ce",
   "metadata": {},
   "outputs": [],
   "source": [
    "stat = stats[1]\n",
    "stat['radius']"
   ]
  },
  {
   "cell_type": "markdown",
   "id": "0146dc32",
   "metadata": {},
   "source": [
    "What is the estimated radius of the cell 9?"
   ]
  },
  {
   "cell_type": "code",
   "execution_count": null,
   "id": "a6aafd58",
   "metadata": {},
   "outputs": [],
   "source": []
  },
  {
   "cell_type": "markdown",
   "id": "b3c24f28",
   "metadata": {},
   "source": [
    "What is the estimated radius of the last cell?"
   ]
  },
  {
   "cell_type": "code",
   "execution_count": null,
   "id": "cde08bb8",
   "metadata": {},
   "outputs": [],
   "source": []
  },
  {
   "cell_type": "markdown",
   "id": "efeeab90",
   "metadata": {},
   "source": [
    "(BONUS) Explore other fields from stat.npy\n",
    "\n",
    "[See fields here](https://suite2p.readthedocs.io/en/latest/outputs.html#stat-npy-fields)"
   ]
  },
  {
   "cell_type": "markdown",
   "id": "6fbe72e1",
   "metadata": {},
   "source": [
    "## iscell\n",
    "\n",
    "| **Code**         | **Description**                                                                         |\n",
    "| :--------------- | :-------------------------------------------------------------------------------------- |\n",
    "| `ic = iscell[1]` | Assign the second element (index 1) of **iscell** to the variable **ic**.               |\n",
    "| `ic[0]`          | Access the first value in **ic**, which indicates whether it is a cell (True/False).    |\n",
    "| `ic[1]`          | Access the second value in **ic**, which represents the probability of it being a cell. |"
   ]
  },
  {
   "cell_type": "markdown",
   "id": "a7aa4adb",
   "metadata": {},
   "source": [
    "**Example** Is the first ROI a cell?"
   ]
  },
  {
   "cell_type": "code",
   "execution_count": null,
   "id": "6ed559d7",
   "metadata": {},
   "outputs": [],
   "source": [
    "ic = iscell[1]\n",
    "ic[0]"
   ]
  },
  {
   "cell_type": "markdown",
   "id": "5dae96b4",
   "metadata": {},
   "source": [
    "Is the ninth ROI a cell?"
   ]
  },
  {
   "cell_type": "code",
   "execution_count": null,
   "id": "3df01e56",
   "metadata": {},
   "outputs": [],
   "source": []
  },
  {
   "cell_type": "markdown",
   "id": "9170eafd",
   "metadata": {},
   "source": [
    "Is the last ROI a cell?"
   ]
  },
  {
   "cell_type": "code",
   "execution_count": null,
   "id": "a22d71f9",
   "metadata": {},
   "outputs": [],
   "source": []
  },
  {
   "cell_type": "markdown",
   "id": "0f23db18",
   "metadata": {},
   "source": [
    "**Example** What is the probability the the second ROI is a cell?"
   ]
  },
  {
   "cell_type": "code",
   "execution_count": null,
   "id": "1c7ab9af",
   "metadata": {},
   "outputs": [],
   "source": [
    "ic = iscell[1]\n",
    "ic[1]"
   ]
  },
  {
   "cell_type": "markdown",
   "id": "dfc851fb",
   "metadata": {},
   "source": [
    "What is the probability the the ninth ROI is a cell?"
   ]
  },
  {
   "cell_type": "code",
   "execution_count": null,
   "id": "293e68cd",
   "metadata": {},
   "outputs": [],
   "source": []
  },
  {
   "cell_type": "markdown",
   "id": "e5dea01d",
   "metadata": {},
   "source": [
    "What is the probability the the last ROI is a cell?"
   ]
  },
  {
   "cell_type": "code",
   "execution_count": null,
   "id": "a11d1657",
   "metadata": {},
   "outputs": [],
   "source": []
  }
 ],
 "metadata": {
  "kernelspec": {
   "display_name": "calim",
   "language": "python",
   "name": "python3"
  },
  "language_info": {
   "codemirror_mode": {
    "name": "ipython",
    "version": 3
   },
   "file_extension": ".py",
   "mimetype": "text/x-python",
   "name": "python",
   "nbconvert_exporter": "python",
   "pygments_lexer": "ipython3",
   "version": "3.12.3"
  }
 },
 "nbformat": 4,
 "nbformat_minor": 5
}
