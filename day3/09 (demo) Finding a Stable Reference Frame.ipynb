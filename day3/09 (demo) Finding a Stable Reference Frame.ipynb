{
 "cells": [
  {
   "cell_type": "code",
   "execution_count": null,
   "id": "d4065191",
   "metadata": {},
   "outputs": [],
   "source": [
    "%pip install numpy tifffile matplotlib scikit-image scipy \"napari[all]\" pyocclient"
   ]
  },
  {
   "cell_type": "code",
   "execution_count": null,
   "id": "56e7b392",
   "metadata": {},
   "outputs": [],
   "source": [
    "import numpy as np\n",
    "import tifffile\n",
    "import matplotlib.pyplot as plt\n",
    "from skimage.registration import phase_cross_correlation\n",
    "from scipy.ndimage import shift\n",
    "import napari"
   ]
  },
  {
   "cell_type": "code",
   "execution_count": null,
   "id": "a2c5e4ef",
   "metadata": {},
   "outputs": [],
   "source": [
    "import owncloud\n",
    "import os\n",
    "\n",
    "if not os.path.exists('data'):\n",
    "    print('Creating directory for data')\n",
    "    os.mkdir('data')\n",
    "\n",
    "if not os.path.exists('data/data.tif'):\n",
    "    oc = owncloud.Client.from_public_link('https://uni-bonn.sciebo.de/s/bFDLSfaxRqKlqT7')\n",
    "    oc.get_file('/', 'data/data.tif');"
   ]
  },
  {
   "cell_type": "code",
   "execution_count": null,
   "id": "06aa2f2b",
   "metadata": {},
   "outputs": [],
   "source": [
    "movie = tifffile.imread('data/data.tif')\n",
    "movie.shape"
   ]
  },
  {
   "cell_type": "markdown",
   "id": "6aa3efbe",
   "metadata": {},
   "source": [
    "For every frame, compute how much it has to be shifted relative to every other frame. Because computation time increases exponentially with the number of frames, we only do this for a subset."
   ]
  },
  {
   "cell_type": "code",
   "execution_count": null,
   "id": "3a64ca5c",
   "metadata": {},
   "outputs": [],
   "source": [
    "frames = movie[0:100]\n",
    "n_frames = frames.shape[0]"
   ]
  },
  {
   "cell_type": "code",
   "execution_count": null,
   "id": "59553d00",
   "metadata": {},
   "outputs": [],
   "source": [
    "shift_map = np.zeros((n_frames, n_frames))\n",
    "for i in range(n_frames):\n",
    "    for j in range(n_frames):\n",
    "        shift = phase_cross_correlation(frames[i], frames[j])[0]\n",
    "        shift_map[i,j] = np.abs(shift).sum()"
   ]
  },
  {
   "cell_type": "markdown",
   "id": "a7761e71",
   "metadata": {},
   "source": [
    "We can plot the resulting matrix as an image. Each row and column is an image and a higher value indicates a larger shift required two align a given pair of images."
   ]
  },
  {
   "cell_type": "code",
   "execution_count": null,
   "id": "69341330",
   "metadata": {},
   "outputs": [],
   "source": [
    "im = plt.imshow(shift_map)\n",
    "plt.colorbar(im)"
   ]
  },
  {
   "cell_type": "markdown",
   "id": "b5a25358",
   "metadata": {},
   "source": [
    "The diagonal of this matrix is 0 because we don't need to align an image with itself"
   ]
  },
  {
   "cell_type": "code",
   "execution_count": null,
   "id": "f37d7804",
   "metadata": {},
   "outputs": [],
   "source": [
    "np.diag(shift_map)"
   ]
  },
  {
   "cell_type": "markdown",
   "id": "dab2c64b",
   "metadata": {},
   "source": [
    "Now, we can average the matrix across one dimension and find the index where this is minimal. This is the image that, on average, needs the least shifting"
   ]
  },
  {
   "cell_type": "code",
   "execution_count": null,
   "id": "e7a32d8f",
   "metadata": {},
   "outputs": [],
   "source": [
    "np.argmin(shift_map.mean(axis=0))"
   ]
  }
 ],
 "metadata": {
  "kernelspec": {
   "display_name": "s2p",
   "language": "python",
   "name": "python3"
  },
  "language_info": {
   "codemirror_mode": {
    "name": "ipython",
    "version": 3
   },
   "file_extension": ".py",
   "mimetype": "text/x-python",
   "name": "python",
   "nbconvert_exporter": "python",
   "pygments_lexer": "ipython3",
   "version": "3.9.22"
  }
 },
 "nbformat": 4,
 "nbformat_minor": 5
}
